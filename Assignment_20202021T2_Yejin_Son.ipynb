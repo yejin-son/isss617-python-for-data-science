{
 "cells": [
  {
   "cell_type": "markdown",
   "metadata": {},
   "source": [
    "# Assignment    --- Due 11:59pm, Wednesday, April 21, 2021\n",
    "\n",
    "### You need to submit both this notebook and a \"Result.txt\" file as instructed in the questions."
   ]
  },
  {
   "cell_type": "markdown",
   "metadata": {},
   "source": [
    "##  A Comparison of Two Speeches \n",
    "\n",
    "In this exercise we will conduct a step-by-step analysis and comparison of two speeches -- the State of Union Address of President Obama and that of President Trump. Some of the questions are designed to be open-ended to encourage data science thinking and your own creativity in problem solving. \n",
    "\n",
    "#### You need to provide Python code for all the questions in this notebook with proper naming for functions, pseudo-codes or comments for easy understanding.  All result output will be stored in a file called \"Result.txt\" under different sections, which will be submitted together with this notebook for this assignment."
   ]
  },
  {
   "cell_type": "markdown",
   "source": [
    "Preparing `Result.txt` file for the answer."
   ],
   "metadata": {
    "collapsed": false,
    "pycharm": {
     "name": "#%% md\n"
    }
   }
  },
  {
   "cell_type": "code",
   "execution_count": 2,
   "outputs": [],
   "source": [
    "with open('Result.txt', 'w') as file:\n",
    "    file.write(\"ISSS617 - Python For Data Science: Assignment\\n\")\n",
    "    file.write(\"Name: Yejin Son\\n\")\n",
    "    file.write(\"Email: yejin.son.2019@mitb.smu.edu.sg\")\n",
    "    file.write(\"Submitted on: 25th April, 2021\")\n"
   ],
   "metadata": {
    "collapsed": false,
    "pycharm": {
     "name": "#%%\n"
    }
   }
  },
  {
   "cell_type": "markdown",
   "metadata": {},
   "source": [
    "### Q.1  A First Profiling (20 marks)\n",
    "\n",
    "Import the text data files ”StateOfUnion_Obama.txt\" and ”StateOfUnion_Trump.txt\". Compare the two speeches by the following metrics. You should plot out the metrics in an appropriate way for comparison when possible. \n",
    "\n",
    "(1) Number of distinct words\n",
    "\n",
    "(2) Length of words\n",
    "\n",
    "(3) Length of sentences\n",
    "\n",
    "(4) Number and frequency of applause \n",
    "\n",
    "(5) Number of country names mentioned\n",
    "\n",
    "Print out the comparison results and store this information in a section called \"A First Profile\" in the \"Result.txt\" file.  Exlain and justify your solution when necessary."
   ]
  },
  {
   "cell_type": "code",
   "execution_count": 4,
   "metadata": {},
   "outputs": [],
   "source": [
    "#Import required libraries\n",
    "import re\n",
    "import numpy as np\n",
    "import pandas as pd\n",
    "import collections\n",
    "import matplotlib.pyplot as plt\n",
    "import nltk\n",
    "import gensim\n",
    "import pycountry as pc\n",
    "\n",
    "#Load required files for the assignment\n",
    "obama_file = open('StateOfUnion_Obama.txt', \"r\")\n",
    "trump_file = open('StateOfUnion_Trump.txt', \"r\")\n",
    "\n",
    "obama_txt = obama_file.read()\n",
    "trump_txt = trump_file.read()"
   ]
  },
  {
   "cell_type": "markdown",
   "source": [
    "(1) Number of distinct words\n",
    "\n",
    "As it is first profiling without any pre-processing of data, there will only be basic level of sanity check for counting distinct words. The function `get_num_distinct_words` will only count words that only contain alphanumeric value."
   ],
   "metadata": {
    "collapsed": false,
    "pycharm": {
     "name": "#%% md\n"
    }
   }
  },
  {
   "cell_type": "code",
   "execution_count": 5,
   "outputs": [
    {
     "name": "stdout",
     "output_type": "stream",
     "text": [
      "Obama:  2033 \n",
      "Trump:  2307\n"
     ]
    }
   ],
   "source": [
    "obama_words = obama_txt.split()\n",
    "trump_words = trump_txt.split()\n",
    "\n",
    "# Returns number of distinct words in each input text\n",
    "def get_num_distinct_words(text):\n",
    "    wordcount = {}\n",
    "    for word in text:\n",
    "        # do not count if the word does not have any alphanumeric value\n",
    "        # (e.g. it will remove '--' from the text)\n",
    "        if any(c.isalnum() for c in word):\n",
    "            wordcount[word] = wordcount.get(word, 0) + 1\n",
    "    return len(wordcount)\n",
    "\n",
    "\n",
    "obama_num_distinct = get_num_distinct_words(obama_words)\n",
    "trump_num_distinct = get_num_distinct_words(trump_words)\n",
    "\n",
    "print(\"Obama: \", obama_num_distinct, \"\\nTrump: \", trump_num_distinct)"
   ],
   "metadata": {
    "collapsed": false,
    "pycharm": {
     "name": "#%%\n"
    }
   }
  },
  {
   "cell_type": "markdown",
   "source": [
    "Save the result into the result file."
   ],
   "metadata": {
    "collapsed": false,
    "pycharm": {
     "name": "#%% md\n"
    }
   }
  },
  {
   "cell_type": "code",
   "execution_count": 11,
   "outputs": [],
   "source": [
    "with open('Result.txt', 'a') as file:\n",
    "    file.write(\"\\n\\n\")\n",
    "    file.write(\"###########################################################\\n\")\n",
    "    file.write(\"###########################################################\\n\")\n",
    "    file.write(\"######################A First Profile######################\\n\")\n",
    "    file.write(\"###########################################################\\n\")\n",
    "    file.write(\"###########################################################\\n\")\n",
    "    file.write(\"\\n(1) Number of distinct words\\n\")\n",
    "    file.write(\"Obama Speech: %s distinct words\\n\" % obama_num_distinct)\n",
    "    file.write(\"Trump Speech: %s distinct words\" % trump_num_distinct)\n",
    "    file.write(\"\\n\\n\")"
   ],
   "metadata": {
    "collapsed": false,
    "pycharm": {
     "name": "#%%\n"
    }
   }
  },
  {
   "cell_type": "markdown",
   "source": [
    "Before going to the next question, we will get a basic information by creating data frame with each word's frequency."
   ],
   "metadata": {
    "collapsed": false,
    "pycharm": {
     "name": "#%% md\n"
    }
   }
  },
  {
   "cell_type": "code",
   "execution_count": 13,
   "outputs": [
    {
     "name": "stdout",
     "output_type": "stream",
     "text": [
      "           word  frequency\n",
      "0           the        273\n",
      "1            to        203\n",
      "2            of        149\n",
      "3           and        142\n",
      "4             a        117\n",
      "5          that        115\n",
      "6            we        100\n",
      "7            in         99\n",
      "8           our         83\n",
      "9   (Applause.)         79\n",
      "10           is         68\n",
      "11          for         53\n",
      "12            I         51\n",
      "13           or         50\n",
      "14          And         49\n",
      "15          who         40\n",
      "16           on         37\n",
      "17          not         37\n",
      "18         have         36\n",
      "19           it         35 \n",
      "\n",
      "\n",
      "           word  frequency\n",
      "0           the        264\n",
      "1           and        199\n",
      "2            to        158\n",
      "3            of        149\n",
      "4   (Applause.)        124\n",
      "5            is         98\n",
      "6            in         98\n",
      "7             a         92\n",
      "8           our         79\n",
      "9            we         64\n",
      "10          are         64\n",
      "11          for         60\n",
      "12         that         60\n",
      "13         have         51\n",
      "14            I         50\n",
      "15          you         48\n",
      "16            Ñ         40\n",
      "17         with         37\n",
      "18           on         35\n",
      "19         will         34\n"
     ]
    }
   ],
   "source": [
    "# For the future usage, get frequency of each words in dictionary format.\n",
    "# Returns dictionary of words with freqeuncy for input text\n",
    "def get_word_freq(text):\n",
    "    wordcount = {}\n",
    "    for word in text:\n",
    "        if any(c.isalnum() for c in word):\n",
    "            wordcount[word] = wordcount.get(word, 0) + 1\n",
    "    return wordcount\n",
    "\n",
    "obama_word_freq = get_word_freq(obama_words)\n",
    "obama_word_freq = sorted(obama_word_freq.items(), key=lambda x:x[1], reverse = True)\n",
    "df_obama = pd.DataFrame(obama_word_freq, columns=['word','frequency'])\n",
    "\n",
    "trump_word_freq = get_word_freq(trump_words)\n",
    "trump_word_freq = sorted(trump_word_freq.items(), key=lambda x:x[1], reverse = True)\n",
    "df_trump = pd.DataFrame(trump_word_freq, columns=['word','frequency'])\n",
    "print(df_obama.head(20),\"\\n\\n\")\n",
    "print(df_trump.head(20))"
   ],
   "metadata": {
    "collapsed": false,
    "pycharm": {
     "name": "#%%\n"
    }
   }
  },
  {
   "cell_type": "markdown",
   "source": [
    "(2) Length of words\n",
    "\n",
    "It will be interesting to compare how often each leader use certain length of words. Length of words do not represent any complexity or proficiency of speech, but it can be a personal tendency when it comes to speech. The function `word_length_freq` returns frequency of each string with same length in the input text."
   ],
   "metadata": {
    "collapsed": false,
    "pycharm": {
     "name": "#%% md\n"
    }
   }
  },
  {
   "cell_type": "code",
   "execution_count": 14,
   "outputs": [
    {
     "name": "stdout",
     "output_type": "stream",
     "text": [
      "OrderedDict([(3, 1168), (4, 1094), (2, 1032), (5, 618), (6, 561), (7, 491), (8, 315), (9, 225), (1, 171), (10, 169), (11, 163), (12, 32), (13, 20), (14, 5), (15, 3), (17, 2), (16, 1), (32, 1), (23, 1), (18, 1), (27, 1), (20, 1)])\n",
      "OrderedDict([(3, 1182), (4, 1037), (2, 922), (5, 696), (6, 551), (7, 545), (8, 476), (9, 313), (11, 217), (1, 191), (10, 166), (12, 66), (13, 27), (14, 20), (15, 11), (16, 4), (18, 3)])\n"
     ]
    }
   ],
   "source": [
    "# Returns frequency of each word length\n",
    "def word_length_freq(text):\n",
    "    wordcount = {}\n",
    "    for word in text:\n",
    "        if any(c.isalnum() for c in word):\n",
    "            wordcount[len(word)] = wordcount.get(len(word), 0) + 1\n",
    "    wordcount = collections.OrderedDict(sorted(wordcount.items(), key=lambda x:x[1], reverse=True))\n",
    "    return wordcount\n",
    "\n",
    "obama_length = word_length_freq(obama_words)\n",
    "trump_length = word_length_freq(trump_words)\n",
    "\n",
    "#Print answer\n",
    "print(obama_length)\n",
    "print(trump_length)"
   ],
   "metadata": {
    "collapsed": false,
    "pycharm": {
     "name": "#%%\n"
    }
   }
  },
  {
   "cell_type": "markdown",
   "source": [
    "Generate a comparison plot between two figures"
   ],
   "metadata": {
    "collapsed": false,
    "pycharm": {
     "name": "#%% md\n"
    }
   }
  },
  {
   "cell_type": "code",
   "execution_count": 21,
   "outputs": [
    {
     "data": {
      "text/plain": "<Figure size 720x360 with 2 Axes>",
      "image/png": "[encoded data removed]"
     },
     "metadata": {
      "needs_background": "light"
     },
     "output_type": "display_data"
    }
   ],
   "source": [
    "plt.subplots(2,2,figsize = (10,5))\n",
    "plt.subplot(1,2,1)\n",
    "plt.bar(range(len(obama_length)), list(obama_length.values()), align = 'center')\n",
    "plt.xticks(range(len(obama_length)), list(obama_length.keys()))\n",
    "plt.title('Frequency of Obama Speech by word length')\n",
    "plt.xlabel('Length of word')\n",
    "plt.ylabel('Frequency')\n",
    "\n",
    "plt.subplot(1,2,2)\n",
    "plt.bar(range(len(trump_length)), list(trump_length.values()), align = 'center')\n",
    "plt.xticks(range(len(trump_length)), list(trump_length.keys()))\n",
    "plt.title('Frequency of Trump Speech by word length')\n",
    "plt.xlabel('Length of word')\n",
    "plt.ylabel('Frequency')\n",
    "plt.show()"
   ],
   "metadata": {
    "collapsed": false,
    "pycharm": {
     "name": "#%%\n"
    }
   }
  },
  {
   "cell_type": "markdown",
   "source": [
    "Save the result into the result file."
   ],
   "metadata": {
    "collapsed": false
   }
  },
  {
   "cell_type": "code",
   "execution_count": 37,
   "outputs": [],
   "source": [
    "ans2_1 = pd.DataFrame.from_dict(dict(obama_length), orient = 'index')\n",
    "ans2_1.columns = ['Frequency']\n",
    "ans2_2 = pd.DataFrame.from_dict(dict(trump_length), orient='index')\n",
    "ans2_2.columns = ['Frequency']\n",
    "\n",
    "with open('Result.txt', 'a') as file:\n",
    "    file.write(\"\\n(2) Length of words\\n\")\n",
    "    file.write(\"The result is sorted by frequency in descending order\\n\")\n",
    "    file.write(\"Obama Speech - Frequency by length of words\\n\")\n",
    "    file.write(str(ans2_1))\n",
    "    file.write(\"\\n\\nTrump Speech - Frequency by length of words\\n\")\n",
    "    file.write(str(ans2_2))\n",
    "    file.write(\"\\n\\n\")"
   ],
   "metadata": {
    "collapsed": false,
    "pycharm": {
     "name": "#%%\n"
    }
   }
  },
  {
   "cell_type": "markdown",
   "source": [
    "(3) Length of sentences"
   ],
   "metadata": {
    "collapsed": false,
    "pycharm": {
     "name": "#%% md\n"
    }
   }
  },
  {
   "cell_type": "code",
   "execution_count": 38,
   "outputs": [
    {
     "name": "stdout",
     "output_type": "stream",
     "text": [
      "[481, 377, 361, 349, 336, 296, 272, 264, 260, 256, 253, 249, 240, 238, 236, 229, 225, 225, 223, 223, 222, 220, 219, 218, 217, 215, 215, 214, 210, 209, 204, 200, 199, 199, 196, 194, 192, 188, 185, 183, 183, 183, 181, 181, 181, 180, 179, 179, 175, 174, 173, 173, 171, 170, 168, 167, 165, 164, 164, 163, 163, 160, 158, 158, 157, 155, 155, 154, 154, 154, 154, 151, 149, 149, 147, 145, 143, 142, 140, 139, 138, 138, 138, 138, 137, 137, 137, 137, 136, 136, 136, 136, 135, 134, 133, 132, 132, 132, 130, 129, 129, 127, 126, 126, 126, 125, 125, 124, 123, 123, 121, 121, 118, 118, 118, 117, 116, 116, 114, 113, 113, 113, 112, 111, 111, 110, 107, 107, 106, 105, 103, 102, 102, 101, 101, 101, 100, 100, 100, 99, 97, 96, 96, 96, 96, 95, 94, 94, 92, 91, 91, 91, 90, 90, 90, 89, 89, 88, 88, 87, 87, 87, 86, 86, 86, 85, 85, 85, 85, 84, 84, 84, 83, 83, 81, 81, 81, 80, 80, 80, 79, 79, 79, 78, 77, 76, 76, 76, 75, 73, 72, 71, 71, 71, 70, 70, 70, 69, 69, 69, 69, 69, 68, 68, 66, 66, 66, 66, 66, 65, 64, 64, 63, 63, 63, 63, 63, 62, 62, 62, 61, 61, 61, 60, 58, 58, 58, 57, 57, 57, 55, 55, 55, 54, 53, 53, 52, 52, 51, 50, 50, 50, 50, 49, 49, 49, 48, 48, 48, 48, 47, 47, 47, 46, 46, 44, 44, 44, 43, 43, 42, 42, 41, 41, 41, 40, 39, 39, 39, 39, 38, 38, 37, 37, 37, 36, 36, 36, 36, 35, 35, 35, 35, 33, 33, 33, 32, 32, 31, 31, 31, 30, 30, 29, 29, 28, 27, 27, 27, 27, 27, 26, 26, 26, 26, 25, 25, 25, 25, 25, 24, 23, 23, 23, 21, 21, 21, 21, 20, 20, 20, 20, 18, 18, 16, 16, 16, 15, 13, 13, 13, 12, 12, 12, 11, 11, 11, 11, 11, 11, 11, 11, 11, 11, 11, 11, 11, 11, 11, 11, 11, 11, 11, 11, 11, 11, 11, 11, 11, 11, 11, 11, 11, 11, 11, 11, 11, 11, 11, 11, 11, 11, 11, 11, 11, 11, 11, 11, 11, 11, 11, 11, 11, 11, 11, 11, 11, 11, 11, 11, 11, 11, 11, 11, 11, 11, 11, 11, 11, 11, 11, 11, 11, 11, 11, 11, 11, 11, 11, 11, 11, 11, 11, 11, 11, 11, 11, 11, 11, 8, 7, 7, 4]\n",
      "[330, 291, 271, 266, 265, 264, 263, 257, 251, 244, 240, 231, 223, 222, 218, 208, 205, 201, 198, 191, 190, 190, 189, 188, 188, 187, 186, 185, 184, 183, 182, 180, 180, 180, 175, 175, 174, 171, 170, 169, 168, 168, 167, 166, 165, 164, 162, 162, 162, 162, 162, 161, 160, 158, 157, 155, 155, 154, 153, 152, 151, 150, 149, 148, 147, 147, 146, 146, 145, 145, 144, 143, 143, 142, 142, 140, 139, 139, 138, 138, 138, 138, 138, 137, 137, 136, 135, 135, 134, 133, 133, 133, 133, 132, 132, 132, 131, 131, 130, 130, 129, 128, 128, 127, 127, 127, 127, 126, 126, 126, 125, 124, 124, 123, 122, 121, 121, 120, 120, 118, 118, 118, 118, 117, 116, 116, 115, 115, 114, 114, 113, 113, 113, 112, 112, 111, 111, 111, 110, 110, 110, 109, 109, 109, 108, 108, 108, 108, 108, 108, 107, 106, 105, 105, 104, 104, 103, 103, 102, 102, 102, 101, 101, 100, 100, 99, 99, 98, 98, 97, 97, 97, 96, 95, 95, 95, 95, 94, 94, 94, 94, 94, 93, 93, 93, 92, 91, 91, 91, 89, 89, 89, 89, 89, 89, 88, 88, 87, 86, 86, 86, 85, 85, 85, 84, 83, 83, 83, 83, 83, 82, 82, 82, 82, 81, 81, 80, 79, 79, 79, 78, 78, 78, 78, 77, 77, 77, 76, 76, 76, 76, 76, 75, 75, 74, 74, 74, 74, 73, 73, 73, 73, 72, 72, 71, 71, 70, 70, 70, 69, 69, 69, 68, 68, 65, 65, 65, 64, 64, 64, 63, 63, 63, 63, 63, 62, 62, 61, 61, 60, 60, 60, 59, 59, 59, 59, 59, 59, 58, 58, 58, 57, 57, 57, 56, 55, 55, 55, 54, 53, 53, 52, 51, 51, 50, 50, 49, 48, 48, 47, 47, 46, 46, 46, 45, 44, 44, 44, 44, 43, 42, 41, 41, 40, 39, 38, 38, 37, 37, 36, 35, 35, 35, 34, 34, 34, 33, 33, 32, 31, 30, 30, 30, 29, 29, 29, 29, 28, 27, 27, 27, 26, 26, 25, 25, 25, 25, 25, 24, 24, 24, 23, 23, 23, 22, 22, 22, 21, 20, 20, 20, 20, 20, 20, 20, 20, 20, 20, 19, 17, 17, 17, 17, 17, 17, 16, 16, 16, 16, 16, 15, 15, 15, 15, 15, 14, 14, 12, 12, 12, 11, 11, 11, 11, 11, 11, 11, 11, 11, 11, 11, 11, 11, 11, 11, 11, 11, 11, 11, 11, 11, 11, 11, 11, 11, 11, 11, 11, 11, 11, 11, 11, 11, 11, 11, 11, 11, 11, 11, 11, 11, 11, 11, 11, 11, 11, 11, 11, 11, 11, 11, 11, 11, 11, 11, 11, 11, 11, 11, 11, 11, 11, 11, 11, 11, 11, 11, 11, 11, 11, 11, 11, 11, 11, 11, 11, 11, 11, 11, 11, 11, 11, 11, 11, 11, 11, 11, 11, 11, 11, 11, 11, 11, 11, 11, 11, 11, 11, 11, 11, 11, 11, 11, 11, 11, 11, 11, 11, 11, 11, 11, 11, 11, 11, 11, 11, 11, 11, 11, 11, 11, 11, 11, 11, 10, 10, 10, 10, 10, 10, 10, 8, 7, 7, 7, 7, 6, 6, 5, 5]\n",
      "Obama Speech's minimum length of sentence is:  4\n",
      "Obama Speech's maximum length of sentence is:  481\n",
      "Trump Speech's minimum length of sentence is:  5\n",
      "Trump Speech's maximum length of sentence is:  330\n"
     ]
    }
   ],
   "source": [
    "obama_sent = nltk.tokenize.sent_tokenize(obama_txt)\n",
    "trump_sent = nltk.tokenize.sent_tokenize(trump_txt)\n",
    "\n",
    "obama_len_sentence = [len(sentence) for sentence in obama_sent]\n",
    "trump_len_sentence = [len(sentence) for sentence in trump_sent]\n",
    "\n",
    "print(sorted(obama_len_sentence, reverse=True))\n",
    "print(sorted(trump_len_sentence, reverse=True))\n",
    "\n",
    "#compare two results\n",
    "print(\"Obama Speech's minimum length of sentence is: \", min(obama_len_sentence))\n",
    "print(\"Obama Speech's maximum length of sentence is: \", max(obama_len_sentence))\n",
    "print(\"Trump Speech's minimum length of sentence is: \", min(trump_len_sentence))\n",
    "print(\"Trump Speech's maximum length of sentence is: \", max(trump_len_sentence))"
   ],
   "metadata": {
    "collapsed": false,
    "pycharm": {
     "name": "#%%\n"
    }
   }
  },
  {
   "cell_type": "markdown",
   "source": [
    "To understand better, plot has been created to see which speaker uses more long sentences or more short sentences."
   ],
   "metadata": {
    "collapsed": false,
    "pycharm": {
     "name": "#%% md\n"
    }
   }
  },
  {
   "cell_type": "code",
   "execution_count": 39,
   "outputs": [
    {
     "data": {
      "text/plain": "<Figure size 720x360 with 2 Axes>",
      "image/png": "[encoded data removed]"
     },
     "metadata": {
      "needs_background": "light"
     },
     "output_type": "display_data"
    }
   ],
   "source": [
    "# create bins\n",
    "bins = [0, 50, 100, 150, 200, 250, 300, 350, 400, 450, 500]\n",
    "\n",
    "plt.subplots(2,2, figsize = (10,5))\n",
    "plt.subplot(1,2,1)\n",
    "plt.hist(obama_len_sentence, bins = bins)\n",
    "plt.title('Length of Sentences - Obama')\n",
    "plt.xlabel('Length')\n",
    "plt.ylabel('Frequency')\n",
    "plt.yticks(range(0,300,50))\n",
    "\n",
    "plt.subplot(1,2,2)\n",
    "plt.hist(trump_len_sentence, bins = bins)\n",
    "plt.title('Length of Sentences - Trump')\n",
    "plt.xlabel('Frequency')\n",
    "plt.yticks(range(0,300,50))\n",
    "\n",
    "plt.show()"
   ],
   "metadata": {
    "collapsed": false,
    "pycharm": {
     "name": "#%%\n"
    }
   }
  },
  {
   "cell_type": "markdown",
   "source": [
    "Save the result into the file."
   ],
   "metadata": {
    "collapsed": false,
    "pycharm": {
     "name": "#%% md\n"
    }
   }
  },
  {
   "cell_type": "code",
   "execution_count": 40,
   "outputs": [
    {
     "name": "stdout",
     "output_type": "stream",
     "text": [
      "Obama Speech's minimum length of sentence is:  4\n",
      "Obama Speech's maximum length of sentence is:  481\n",
      "Trump Speech's minimum length of sentence is:  5\n",
      "Trump Speech's maximum length of sentence is:  330\n"
     ]
    }
   ],
   "source": [
    "ans1_3_1 = obama_len_sentence\n",
    "ans1_3_2 = trump_len_sentence\n",
    "\n",
    "with open('Result.txt', 'a') as file:\n",
    "    file.write(\"\\n(3) Length of sentences\\n\")\n",
    "    file.write(\"Length of each sentence\\n\")\n",
    "    file.write(\"<Obama Speech>\\n\")\n",
    "    file.write(str(ans1_3_1))\n",
    "    file.write(\"\\n\\n<Trump Speech>\\n\")\n",
    "    file.write(str(ans1_3_2))\n",
    "    file.write(\"\\n\\nFor the further detailed analysis, please refer to the jupyter notebook results.\")\n",
    "    file.write(\"\\n\\n\")"
   ],
   "metadata": {
    "collapsed": false,
    "pycharm": {
     "name": "#%%\n"
    }
   }
  },
  {
   "cell_type": "markdown",
   "source": [
    "(4) Number and frequency of applause\n",
    "\n",
    "For this question, you can use regex to count numbers of applause appearing in each speech."
   ],
   "metadata": {
    "collapsed": false,
    "pycharm": {
     "name": "#%% md\n"
    }
   }
  },
  {
   "cell_type": "code",
   "execution_count": 42,
   "outputs": [
    {
     "name": "stdout",
     "output_type": "stream",
     "text": [
      "89\n",
      "132\n"
     ]
    }
   ],
   "source": [
    "def count_applause(text):\n",
    "    pattern = re.compile(r'\\b\\w*(applause|Applause)\\w*\\b')\n",
    "    count = 0\n",
    "    for word in text:\n",
    "        if re.search(pattern, word):\n",
    "            count += 1\n",
    "    return count\n",
    "\n",
    "print(count_applause(obama_words))\n",
    "print(count_applause(trump_words))"
   ],
   "metadata": {
    "collapsed": false,
    "pycharm": {
     "name": "#%%\n"
    }
   }
  },
  {
   "cell_type": "markdown",
   "source": [
    "Saving result into result file."
   ],
   "metadata": {
    "collapsed": false,
    "pycharm": {
     "name": "#%% md\n"
    }
   }
  },
  {
   "cell_type": "code",
   "execution_count": 44,
   "outputs": [],
   "source": [
    "ans1_4_1 = count_applause(obama_words)\n",
    "ans1_4_2 = count_applause(trump_words)\n",
    "\n",
    "with open('Result.txt', 'a') as file:\n",
    "    file.write(\"\\n(4) Number and frequency of applause\\n\")\n",
    "    file.write(\"Obama Speech: %s \\n\" % str(ans1_4_1))\n",
    "    file.write(\"Trump Speech: %s \\n\" % str(ans1_4_2))\n",
    "    file.write(\"\\n\\n\")"
   ],
   "metadata": {
    "collapsed": false,
    "pycharm": {
     "name": "#%%\n"
    }
   }
  },
  {
   "cell_type": "markdown",
   "source": [
    "(5) Number of country names mentioned\n",
    "\n",
    "Firstly, check what kind of countries are mentioned from the speech by using `pycountry` module."
   ],
   "metadata": {
    "collapsed": false,
    "pycharm": {
     "name": "#%% md\n"
    }
   }
  },
  {
   "cell_type": "code",
   "execution_count": 46,
   "outputs": [
    {
     "name": "stdout",
     "output_type": "stream",
     "text": [
      "['Afghanistan', 'China', 'Colombia', 'Cuba', 'Iraq', 'Pakistan', 'Ukraine', 'United States', 'Yemen']\n",
      "['Afghanistan', 'Canada', 'China', 'Cuba', 'Guatemala', 'Honduras', 'Iraq', 'Israel', 'Mexico', 'Nicaragua', 'El Salvador', 'United States']\n",
      "['Afghanistan', 'China', 'Colombia', 'Cuba', 'Iraq', 'Pakistan', 'Ukraine', 'United States', 'Yemen', 'Canada', 'Guatemala', 'Honduras', 'Israel', 'Mexico', 'Nicaragua', 'El Salvador', 'America']\n"
     ]
    }
   ],
   "source": [
    "obama_countries = []\n",
    "trump_countries = []\n",
    "\n",
    "for country in pc.countries:\n",
    "    if country.name in obama_txt:\n",
    "        obama_countries.append(country.name)\n",
    "    if country.name in trump_txt:\n",
    "        trump_countries.append(country.name)\n",
    "\n",
    "print(obama_countries)\n",
    "print(trump_countries)\n",
    "\n",
    "country_list = obama_countries\n",
    "for country in trump_countries:\n",
    "    if country not in country_list:\n",
    "        country_list.append(country)\n",
    "country_list.append(\"America\") #Handling exception\n",
    "\n",
    "print(country_list)"
   ],
   "metadata": {
    "collapsed": false,
    "pycharm": {
     "name": "#%%\n"
    }
   }
  },
  {
   "cell_type": "markdown",
   "source": [
    "From the `country list`, count how many times of each country name mentioned by speech."
   ],
   "metadata": {
    "collapsed": false,
    "pycharm": {
     "name": "#%% md\n"
    }
   }
  },
  {
   "cell_type": "code",
   "execution_count": 47,
   "outputs": [
    {
     "name": "stdout",
     "output_type": "stream",
     "text": [
      "84\n",
      "126\n"
     ]
    }
   ],
   "source": [
    "combined = \"(\" + \")|(\".join(country_list) + \")\"\n",
    "combined = \"r'\\b\"+combined\n",
    "\n",
    "obama_country_mentioned = re.findall(combined, obama_txt)\n",
    "trump_country_mentioned = re.findall(combined, trump_txt)\n",
    "\n",
    "#Print out result\n",
    "print(len(obama_country_mentioned))\n",
    "print(len(trump_country_mentioned))"
   ],
   "metadata": {
    "collapsed": false,
    "pycharm": {
     "name": "#%%\n"
    }
   }
  },
  {
   "cell_type": "markdown",
   "source": [
    "Saving result into result file."
   ],
   "metadata": {
    "collapsed": false
   }
  },
  {
   "cell_type": "code",
   "execution_count": 50,
   "outputs": [],
   "source": [
    "ans1_5_1 = len(obama_country_mentioned)\n",
    "ans1_5_2 = len(trump_country_mentioned)\n",
    "\n",
    "with open('Result.txt', 'a') as file:\n",
    "    file.write(\"\\n(5) Number of country names mentioned\\n\")\n",
    "    file.write(\"List of Countries mentioned: %s \\n\" % str(country_list))\n",
    "    file.write(\"Obama Speech: %s \\n\" % str(ans1_5_1))\n",
    "    file.write(\"Trump Speech: %s \\n\" % str(ans1_5_2))\n",
    "    file.write(\"\\n\\n\")"
   ],
   "metadata": {
    "collapsed": false,
    "pycharm": {
     "name": "#%%\n"
    }
   }
  },
  {
   "cell_type": "markdown",
   "metadata": {},
   "source": [
    "### Q.2  Data Pre-processing  (20 marks)\n",
    "\n",
    "Remove three categories of words --- stop words, common words and rare words --- from the text.  Print out the top-100 words you remove for each categories along with the number of each word removed and store these information in a section called \"Processing Log\" in the \"Result.txt\" file.  Exlain and justify your solution when necessary. \n"
   ]
  },
  {
   "cell_type": "code",
   "execution_count": 51,
   "metadata": {},
   "outputs": [],
   "source": [
    "# due to encoding problem, we will encode each text\n",
    "# use gensim tokenize module to tokenize\n",
    "obama_tokens = list(gensim.utils.tokenize(obama_txt.encode()))\n",
    "trump_tokens = list(gensim.utils.tokenize(trump_txt.encode()))"
   ]
  },
  {
   "cell_type": "markdown",
   "source": [
    "Once each text is tokenized, we should change all words to lower case for easier analysis."
   ],
   "metadata": {
    "collapsed": false,
    "pycharm": {
     "name": "#%% md\n"
    }
   }
  },
  {
   "cell_type": "code",
   "execution_count": 52,
   "metadata": {},
   "outputs": [],
   "source": [
    "# Change all words to lower case\n",
    "obama_lower = [w.lower() for w in obama_tokens]\n",
    "trump_lower = [w.lower() for w in trump_tokens]"
   ]
  },
  {
   "cell_type": "markdown",
   "source": [
    "Now `obama_lower` and `trump_lower` are ready for further pre-processing. Firstly, we would like to check all the stopwords. For easier process, Gensim package's stopwords set was used to generate list of stop words that are commonly used without contributing much value to the actual meaning of the sentence."
   ],
   "metadata": {
    "collapsed": false,
    "pycharm": {
     "name": "#%% md\n"
    }
   }
  },
  {
   "cell_type": "code",
   "execution_count": 53,
   "outputs": [
    {
     "name": "stdout",
     "output_type": "stream",
     "text": [
      "frozenset({'while', 'towards', 'twelve', 'by', 'ten', 'however', 'him', 'from', 'because', 'ours', 'and', 'then', 'seemed', 'what', 'none', 'enough', 'hundred', 'three', 'formerly', 'eleven', 'some', 'we', 'doing', 'although', 'made', 'put', 'here', 'very', 'be', 'through', 'do', 'onto', 'nobody', 'at', 'often', 'around', 'otherwise', 'wherein', 'these', 'with', 'only', 'am', 'bottom', 'make', 'whereafter', 'someone', 'off', 'yet', 'co', 'has', 'where', 'somewhere', 'now', 'under', 'others', 'just', 'nor', 'indeed', 'inc', 'noone', 'found', 'why', 'mostly', 'least', 'together', 'one', 'himself', 'due', 'hence', 'us', 'own', 'take', 'against', 'should', 'is', 'still', 'un', 'whenever', 'yourselves', 'everything', 'for', 'please', 'didn', 'therein', 'thick', 'eight', 'again', 'thence', 'that', 'sometime', 'down', 'neither', 'either', 'whether', 'had', 'regarding', 'using', 'into', 'besides', 'system', 'become', 'sincere', 'done', 'no', 'somehow', 'are', 'them', 'does', 'bill', 'they', 'give', 'perhaps', 'myself', 'once', 'de', 'did', 'yours', 'quite', 'i', 'toward', 'themselves', 'can', 'con', 'name', 'fire', 'how', 'up', 'the', 'alone', 'really', 'which', 'becoming', 'cannot', 'each', 'whole', 'hereafter', 'whose', 'out', 'cry', 'amount', 'he', 'something', 'couldnt', 'whereby', 'itself', 'our', 'find', 'during', 'on', 'all', 'becomes', 'was', 'but', 'every', 'latter', 'hereupon', 'anywhere', 'upon', 'throughout', 'those', 'who', 'never', 'its', 'say', 'anything', 'first', 'to', 'in', 'hasnt', 'more', 'too', 'it', 'if', 'go', 'thereafter', 'when', 'wherever', 'nothing', 'her', 'before', 'top', 'well', 'many', 'four', 'became', 'six', 'this', 'moreover', 'twenty', 'another', 'former', 'nevertheless', 'interest', 'there', 'would', 'last', 'behind', 'anyway', 'back', 'several', 'being', 'thereupon', 'anyone', 'may', 'latterly', 'ever', 'per', 'whereas', 'front', 'else', 'seem', 'his', 'any', 'everywhere', 'until', 'whom', 'along', 'whatever', 'five', 'hers', 'hereby', 'get', 'nowhere', 'thin', 'will', 'cant', 'call', 'even', 'serious', 'km', 'third', 'without', 'seeming', 'or', 'namely', 'might', 'see', 'therefore', 'keep', 'beforehand', 'herself', 'also', 'rather', 'beside', 'mine', 'sometimes', 'two', 'via', 're', 'below', 'fill', 'mill', 'been', 'side', 'used', 'anyhow', 'my', 'whither', 'beyond', 'everyone', 'computer', 'since', 'etc', 'other', 'have', 'elsewhere', 'don', 'sixty', 'of', 'herein', 'except', 'almost', 'afterwards', 'yourself', 'thereby', 'were', 'among', 'kg', 'detail', 'nine', 'whence', 'empty', 'over', 'amongst', 'next', 'their', 'ltd', 'show', 'whereupon', 'after', 'fifteen', 'describe', 'doesn', 'across', 'seems', 'though', 'less', 'move', 'much', 'amoungst', 'eg', 'fifty', 'your', 'as', 'me', 'few', 'part', 'thus', 'whoever', 'an', 'not', 'within', 'forty', 'both', 'between', 'ourselves', 'further', 'than', 'already', 'must', 'so', 'you', 'such', 'about', 'meanwhile', 'always', 'a', 'full', 'unless', 'various', 'above', 'thru', 'most', 'she', 'ie', 'could', 'same'})\n",
      "[('the', 285), ('to', 208), ('and', 192), ('of', 150), ('that', 130), ('we', 122), ('a', 119), ('in', 104), ('our', 91), ('is', 72), ('it', 69), ('for', 59), ('i', 57), ('or', 51), ('on', 41), ('this', 40), ('who', 40), ('not', 40), ('but', 38), ('have', 36), ('as', 35), ('us', 34), ('are', 29), ('you', 28), ('their', 27), ('will', 26), ('they', 26), ('be', 25), ('just', 25), ('with', 24), ('when', 24), ('more', 23), ('all', 22), ('do', 22), ('now', 22), ('if', 21), ('so', 20), ('make', 19), ('there', 19), ('can', 19), ('by', 19), ('up', 18), ('even', 18), ('out', 18), ('because', 17), ('should', 16), ('from', 15), ('how', 15), ('every', 15), ('over', 15), ('has', 14), ('see', 14), ('than', 13), ('them', 13), ('some', 12), ('get', 12), ('what', 12), ('at', 11), ('about', 11), ('most', 11), ('only', 11), ('back', 10), ('next', 10), ('those', 10), ('no', 10), ('one', 9), ('an', 9), ('together', 9), ('these', 9), ('why', 9), ('his', 9), ('my', 8), ('been', 8), ('keep', 8), ('still', 8), ('system', 8), ('made', 8), ('give', 8), ('me', 8), ('he', 8), ('him', 8), ('don', 8), ('other', 7), ('done', 7), ('also', 7), ('where', 7), ('everything', 7), ('take', 7), ('here', 6), ('go', 6), ('was', 6), ('without', 6), ('its', 6), ('same', 6), ('may', 6), ('many', 6), ('last', 5), ('each', 5), ('did', 5), ('then', 5)]\n",
      "[('the', 291), ('and', 223), ('to', 166), ('of', 150), ('in', 114), ('a', 104), ('is', 101), ('we', 95), ('our', 95), ('you', 71), ('that', 70), ('are', 64), ('for', 63), ('have', 51), ('i', 50), ('on', 40), ('with', 40), ('this', 35), ('very', 34), ('will', 34), ('all', 31), ('has', 28), ('my', 27), ('was', 27), ('as', 27), ('be', 25), ('at', 23), ('than', 23), ('his', 23), ('he', 22), ('also', 22), ('one', 20), ('by', 19), ('more', 19), ('now', 19), ('first', 18), ('your', 18), ('just', 17), ('from', 17), ('an', 17), ('but', 17), ('much', 16), ('every', 16), ('many', 16), ('their', 16), ('ever', 15), ('where', 15), ('it', 14), ('over', 13), ('not', 13), ('last', 13), ('who', 13), ('they', 12), ('into', 12), ('here', 12), ('up', 11), ('done', 11), ('always', 11), ('down', 11), ('out', 10), ('or', 10), ('made', 10), ('so', 10), ('us', 9), ('never', 9), ('am', 9), ('these', 9), ('can', 9), ('three', 8), ('before', 8), ('other', 8), ('back', 8), ('been', 8), ('most', 8), ('under', 8), ('would', 8), ('after', 8), ('what', 8), ('must', 8), ('her', 8), ('being', 7), ('take', 7), ('if', 7), ('were', 7), ('because', 7), ('him', 7), ('since', 6), ('those', 6), ('doing', 6), ('please', 6), ('next', 6), ('when', 6), ('should', 6), ('even', 5), ('anything', 5), ('then', 5), ('keep', 5), ('two', 5), ('had', 5), ('why', 5)]\n"
     ]
    }
   ],
   "source": [
    "# Stop words, Common words removal\n",
    "stop_list = gensim.parsing.preprocessing.STOPWORDS\n",
    "print(stop_list)\n",
    "\n",
    "obama_stopwords = [w for w in obama_lower if w in stop_list]\n",
    "trump_stopwords = [w for w in trump_lower if w in stop_list]\n",
    "\n",
    "obama_stopword_freq = sorted(get_word_freq(obama_stopwords).items(), key=lambda x:x[1], reverse = True)\n",
    "trump_stopword_freq = sorted(get_word_freq(trump_stopwords).items(), key=lambda x:x[1], reverse = True)\n",
    "\n",
    "print(obama_stopword_freq[:100])\n",
    "print(trump_stopword_freq[:100])"
   ],
   "metadata": {
    "collapsed": false,
    "pycharm": {
     "name": "#%%\n"
    }
   }
  },
  {
   "cell_type": "markdown",
   "source": [
    "On top of removing stop words, check out top 100 common words that can be potentially removed for further analysis."
   ],
   "metadata": {
    "collapsed": false,
    "pycharm": {
     "name": "#%% md\n"
    }
   }
  },
  {
   "cell_type": "code",
   "execution_count": 54,
   "outputs": [
    {
     "name": "stdout",
     "output_type": "stream",
     "text": [
      "[('the', 285), ('to', 208), ('and', 192), ('of', 150), ('that', 130), ('we', 122), ('a', 119), ('in', 104), ('our', 91), ('applause', 89), ('is', 72), ('it', 69), ('for', 59), ('i', 57), ('or', 51), ('on', 41), ('this', 40), ('who', 40), ('not', 40), ('but', 38), ('have', 36), ('as', 35), ('us', 34), ('are', 29), ('you', 28), ('america', 28), ('people', 27), ('their', 27), ('will', 26), ('they', 26), ('be', 25), ('just', 25), ('thatõs', 25), ('s', 25), ('world', 24), ('with', 24), ('when', 24), ('more', 23), ('work', 22), ('all', 22), ('do', 22), ('now', 22), ('american', 22), ('if', 21), ('so', 20), ('make', 19), ('there', 19), ('want', 19), ('itõs', 19), ('can', 19), ('new', 19), ('by', 19), ('up', 18), ('years', 18), ('even', 18), ('out', 18), ('year', 17), ('because', 17), ('change', 16), ('economy', 16), ('should', 16), ('americans', 15), ('from', 15), ('better', 15), ('need', 15), ('how', 15), ('every', 15), ('weõve', 15), ('over', 15), ('has', 14), ('see', 14), ('like', 13), ('right', 13), ('way', 13), ('than', 13), ('them', 13), ('some', 12), ('get', 12), ('what', 12), ('future', 12), ('country', 12), ('job', 12), ('at', 11), ('about', 11), ('most', 11), ('only', 11), ('going', 10), ('back', 10), ('t', 10), ('next', 10), ('those', 10), ('security', 10), ('no', 10), ('one', 9), ('know', 9), ('an', 9), ('together', 9), ('believe', 9), ('these', 9), ('time', 9)]\n",
      "[('the', 291), ('and', 223), ('to', 166), ('of', 150), ('applause', 132), ('in', 114), ('a', 104), ('is', 101), ('we', 95), ('our', 95), ('you', 71), ('that', 70), ('are', 64), ('for', 63), ('have', 51), ('i', 50), ('ñ', 40), ('on', 40), ('with', 40), ('american', 36), ('this', 35), ('very', 34), ('will', 34), ('thank', 31), ('all', 31), ('has', 28), ('my', 27), ('was', 27), ('as', 27), ('be', 25), ('new', 24), ('at', 23), ('than', 23), ('his', 23), ('people', 22), ('he', 22), ('also', 22), ('country', 21), ('america', 21), ('one', 20), ('by', 19), ('more', 19), ('administration', 19), ('now', 19), ('first', 18), ('years', 18), ('tonight', 18), ('americans', 18), ('your', 18), ('americaõs', 17), ('just', 17), ('from', 17), ('an', 17), ('but', 17), ('much', 16), ('states', 16), ('every', 16), ('year', 16), ('many', 16), ('their', 16), ('care', 16), ('ever', 15), ('world', 15), ('where', 15), ('s', 15), ('president', 14), ('congress', 14), ('it', 14), ('over', 13), ('time', 13), ('not', 13), ('u', 13), ('last', 13), ('percent', 13), ('who', 13), ('health', 13), ('united', 12), ('ago', 12), ('they', 12), ('into', 12), ('here', 12), ('nation', 12), ('million', 11), ('working', 11), ('up', 11), ('done', 11), ('always', 11), ('down', 11), ('great', 10), ('jobs', 10), ('out', 10), ('record', 10), ('high', 10), ('or', 10), ('life', 10), ('made', 10), ('criminal', 10), ('law', 10), ('so', 10), ('sanctuary', 10)]\n"
     ]
    }
   ],
   "source": [
    "obama_common_words = collections.Counter(obama_lower).most_common(100)\n",
    "trump_common_words = collections.Counter(trump_lower).most_common(100)\n",
    "\n",
    "print(obama_common_words)\n",
    "print(trump_common_words)"
   ],
   "metadata": {
    "collapsed": false,
    "pycharm": {
     "name": "#%%\n"
    }
   }
  },
  {
   "cell_type": "markdown",
   "source": [
    "Lastly, check out rare words that are used in each text."
   ],
   "metadata": {
    "collapsed": false
   }
  },
  {
   "cell_type": "code",
   "execution_count": 55,
   "outputs": [
    {
     "name": "stdout",
     "output_type": "stream",
     "text": [
      "[('thank', 1), ('confident', 1), ('hopeful', 1), ('optimistic', 1), ('challenge', 1), ('undaunted', 1), ('hearted', 1), ('eyed', 1), ('clear', 1), ('worth', 1), ('precious', 1), ('count', 1), ('polls', 1), ('volunteers', 1), ('casts', 1), ('cast', 1), ('wait', 1), ('woman', 1), ('elderly', 1), ('taught', 1), ('overrides', 1), ('whose', 1), ('father', 1), ('courage', 1), ('finds', 1), ('cheer', 1), ('lines', 1), ('marathon', 1), ('run', 1), ('till', 1), ('tends', 1), ('nurse', 1), ('keeping', 1), ('brave', 1), ('treating', 1), ('cop', 1), ('matters', 1), ('prove', 1), ('determined', 1), ('protester', 1), ('owner', 1), ('starting', 1), ('dreaming', 1), ('mistakes', 1), ('served', 1), ('disease', 1), ('someday', 1), ('teacher', 1), ('project', 1), ('finish', 1), ('late', 1), ('stays', 1), ('dreamer', 1), ('laying', 1), ('pays', 1), ('boss', 1), ('company', 1), ('shifts', 1), ('extra', 1), ('clocked', 1), ('worker', 1), ('unfolding', 1), ('citizenship', 1), ('acts', 1), ('daily', 1), ('ours', 1), ('busy', 1), ('fanfare', 1), ('seek', 1), ('believed', 1), ('king', 1), ('dr', 1), ('creed', 1), ('common', 1), ('bound', 1), ('republican', 1), ('democrat', 1), ('born', 1), ('native', 1), ('straight', 1), ('gay', 1), ('latino', 1), ('asian', 1), ('white', 1), ('black', 1), ('foremost', 1), ('êvoices', 1), ('helped', 1), ('kindness', 1), ('humor', 1), ('grit', 1), ('vision', 1), ('fairness', 1), ('inspired', 1), ('longer', 1), ('brand', 1), ('decency', 1), ('goodness', 1), ('reflects', 1), ('during', 1)]\n",
      "[('shining', 1), ('grace', 1), ('godõs', 1), ('sun', 1), ('spirit', 1), ('begun', 1), ('adventure', 1), ('epic', 1), ('journeys', 1), ('grandest', 1), ('stories', 1), ('thrilling', 1), ('discoveries', 1), ('brightest', 1), ('explored', 1), ('frontiers', 1), ('masterpiece', 1), ('canvas', 1), ('continent', 1), ('soil', 1), ('happen', 1), ('almighty', 1), ('hand', 1), ('everyone', 1), ('truth', 1), ('embracing', 1), ('pathfinders', 1), ('pioneers', 1), ('inheritance', 1), ('glorious', 1), ('exist', 1), ('republic', 1), ('exceptional', 1), ('gentlemen', 1), ('ladies', 1), ('skyscrapers', 1), ('canals', 1), ('dug', 1), ('railroads', 1), ('laid', 1), ('medicine', 1), ('science', 1), ('heights', 1), ('ushered', 1), ('fascism', 1), ('vanquished', 1), ('hunger', 1), ('west', 1), ('wild', 1), ('wilderness', 1), ('tamed', 1), ('unknown', 1), ('braved', 1), ('walk', 1), ('fiercest', 1), ('strongest', 1), ('toughest', 1), ('carved', 1), ('patriots', 1), ('plymouth', 1), ('landed', 1), ('oakley', 1), ('annie', 1), ('crockett', 1), ('davy', 1), ('earp', 1), ('wyatt', 1), ('names', 1), ('armstrong', 1), ('wright', 1), ('tubman', 1), ('harriet', 1), ('earhart', 1), ('amelia', 1), ('douglass', 1), ('frederick', 1), ('abraham', 1), ('macarthur', 1), ('patton', 1), ('pershing', 1), ('generals', 1), ('roosevelt', 1), ('teddy', 1), ('edison', 1), ('thomas', 1), ('legends', 1), ('forged', 1), ('destinies', 1), ('greatness', 1), ('witness', 1), ('bears', 1), ('welcome', 1), ('longer', 1), ('surprise', 1), ('safety', 1), ('makes', 1), ('familyõs', 1), ('fatherõs', 1), ('amyõs', 1), ('townsend', 1)]\n"
     ]
    }
   ],
   "source": [
    "obama_rare_words = collections.Counter(obama_lower).most_common()[:-100-1:-1]\n",
    "trump_rare_words = collections.Counter(trump_lower).most_common()[:-100-1:-1]\n",
    "\n",
    "print(obama_rare_words)\n",
    "print(trump_rare_words)"
   ],
   "metadata": {
    "collapsed": false,
    "pycharm": {
     "name": "#%%\n"
    }
   }
  },
  {
   "cell_type": "markdown",
   "source": [
    "Remove three categories of words --- stop words, common words and rare words --- from the text based on the result above."
   ],
   "metadata": {
    "collapsed": false,
    "pycharm": {
     "name": "#%% md\n"
    }
   }
  },
  {
   "cell_type": "code",
   "execution_count": 56,
   "outputs": [
    {
     "name": "stdout",
     "output_type": "stream",
     "text": [
      "['remarks', 'barack', 'obama', 'ð', 'state', 'union', 'address', 'delivered', 'mr', 'speaker', 'mr', 'vice', 'members', 'fellow', 'marks', 'eighth', 'iõve', 'come', 'report', 'state', 'union', 'final', 'iõm', 'try', 'little', 'shorter', 'antsy', 'iowa', 'laughter', 've', 'll', 'shaking', 'hands', 'afterwards', 'tips', 'laughter', 'understand', 'election', 'season', 'expectations', 'achieve', 'low', 'mr', 'speaker', 'appreciate', 'constructive', 'approach', 'leaders', 'took', 'end', 'pass', 'budget', 'tax', 'cuts', 'permanent', 'families', 'hope', 'bipartisan', 'priorities', 'justice', 'reform', 'helping', 'battling', 'prescription', 'drug', 'abuse', 'heroin', 'abuse', 'knows', 'might', 'cynics', 'again', 'easy', 'traditional', 'list', 'proposals', 'ahead', 'donõt', 'worry', 'iõve', 'got', 'plenty', 'helping', 'students', 'learn', 'write', 'computer', 'code', 'personalizing', 'medical', 'treatments', 'patients', 'pushing', 'progress', 'needs', 'fixing', 'broken', 'immigration', 'protecting', 'kids', 'gun', 'violence', 'equal', 'pay', 'equal', 'paid', 'leave', 'raising', 'minimum', 'wage', 'things', 'matter', 'hardworking', 'families', 'theyõre', 'thing', 'won', 'let', 'until', 'final', 'address', 'chamber', 'donõt', 'talk', 'focus', 'five', 'beyond', 'focus', 'live', 'ofêextraordinary', 'changeê', 'reshaping', 'live', 'ourêplanet', 'ourêplace', 'promises', 'amazing', 'medical', 'breakthroughs', 'êbutêalsoêeconomic', 'disruptionsêthatêstrain', 'families', 'promises', 'education', 'girls', 'remote', 'villages', 'connects', 'terrorists', 'plotting', 'ocean', 'away', 'broaden', 'opportunity', 'widen', 'inequality', 'whether', 'itêor', 'êthe', 'pace', 'thisêchange', 'accelerate', 'throughêbig', 'changes', 'wars', 'depression', 'influx', 'immigrants', 'workers', 'fighting', 'fair', 'deal', 'movements', 'expand', 'civil', 'rights', 'told', 'fear', 'claimed', 'could', 'slam', 'brakes', 'promised', 'restore', 'past', 'glory', 'got', 'group', 'idea', 'threatening', 'control', 'overcame', 'fears', 'words', 'lincoln', 'adhere', 'òdogmas', 'quiet', 'past', 'ó', 'instead', 'thought', 'anew', 'acted', 'anew', 'êwe', 'extending', 'promise', 'outward', 'frontier', 'saw', 'opportunity', 'others', 'saw', 'peril', 'emerged', 'stronger', 'true', 'true', 'unique', 'strengths', 'optimism', 'ethic', 'discovery', 'diversity', 'commitment', 'rule', 'things', 'ensure', 'prosperity', 'generations', 'come', 'fact', 'progress', 'past', 'seven', 'possible', 'ê', 'recovered', 'worst', 'economic', 'crisis', 'generations', 'ê', 'reformed', 'reinvented', 'energy', 'sector', 'delivered', 'benefits', 'troops', 'veterans', 'secured', 'freedom', 'state', 'marry', 'person', 'love', 'such', 'progress', 'inevitable', 'result', 'choices', 'face', 'such', 'choices', 'respond', 'changes', 'fear', 'turning', 'inward', 'turning', 'against', 'face', 'confidence', 'stand', 'incredible', 'things', 'letõs', 'talk', 'four', 'big', 'questions', 'answer', 'regardless', 'controls', 'fair', 'shot', 'opportunity', 'second', 'technology', 'against', 'especially', 'comes', 'solving', 'urgent', 'challenges', 'climate', 'third', 'safe', 'lead', 'becoming', 'policeman', 'finally', 'politics', 'reflect', 'whatõs', 'best', 'whatõs', 'worst', 'let', 'start', 'basic', 'fact', 'durable', 'ê', 'weõre', 'middle', 'longest', 'streak', 'private', 'sector', 'creation', 'history', 'growth', 'ô', 'unemployment', 'rate', 'cut', 'half', 'auto', 'industry', 'best', 'part', 'manufacturing', 'surge', 'created', 'nearlyê', 'past', 'six', 'êand', 'while', 'cutting', 'deficits', 'almost', 'quarters', 'ê', 'anyone', 'claiming', 'decline', 'peddling', 'fiction', 'true', 'reason', 'lot', 'feel', 'anxious', 'changing', 'profound', 'ways', 'changes', 'started', 'long', 'recession', 'hit', 'changes', 'let', 'today', 'technology', 'doesnõt', 'replace', 'assembly', 'line', 'any', 'automated', 'companies', 'global', 'locate', 'anywhere', 'face', 'tougher', 'competition', 'result', 'workers', 'less', 'leverage', 'raise', 'companies', 'less', 'loyalty', 'communities', 'wealth', 'income', 'concentrated', 'top', 'trends', 'squeezed', 'workers', 'growing', 'êitõs', 'harder', 'hardworking', 'family', 'pull', 'itself', 'poverty', 'harder', 'young', 'start', 'careers', 'tougher', 'workers', 'retire', 'although', 'none', 'trends', 'unique', 'offend', 'uniquely', 'belief', 'everybody', 'works', 'hard', 'fair', 'shot', 'past', 'seven', 'goal', 'growing', 'works', 'everybody', 'progress', 'despite', 'political', 'arguments', 'past', 'few', 'actually', 'areas', 'broadly', 'agree', 'agree', 'real', 'opportunity', 'requires', 'education', 'training', 'land', 'good', 'paying', 'bipartisan', 'reform', 'child', 'left', 'behind', 'important', 'start', 'increased', 'early', 'childhood', 'education', 'lifted', 'school', 'graduation', 'rates', 'highs', 'boosted', 'graduates', 'fields', 'engineering', 'coming', 'build', 'progress', 'providing', 'pre', 'k', 'offering', 'student', 'hands', 'computer', 'math', 'classes', 'ready', 'day', 'recruit', 'support', 'teachers', 'kids', 'college', 'affordable', 'hardworking', 'student', 'stuck', 'red', 'already', 'reduced', 'student', 'loan', 'payments', 'borrowerõs', 'income', 'good', 'actually', 'got', 'cut', 'cost', 'college', 'providing', 'community', 'college', 'cost', 'responsible', 'student', 'best', 'ways', 'iõm', 'fighting', 'started', 'thing', 'education', 'isnõt', 'benefits', 'protections', 'provide', 'basic', 'measure', 'too', 'stretch', 'say', 'place', 'retirement', 'package', 'sitting', 'chamber', 'ê', 'laughter', 'else', 'especially', 'folks', 'saving', 'retirement', 'bouncing', 'loss', 'gotten', 'lot', 'tougher', 'understand', 'point', 'careers', 'retool', 'retrain', 'shouldnõt', 'lose', 'theyõve', 'already', 'worked', 'hard', 'build', 'process', 'social', 'medicare', 'important', 'shouldnõt', 'weaken', 'strengthen', 'short', 'retirement', 'basic', 'benefits', 'mobile', 'else', 'today', 'affordable', 'act', 'filling', 'gaps', 'employer', 'based', 'lose', 'school', 'strike', 'launch', 'business', 'youõll', 'coverage', 'nearly', 'gained', 'coverage', 'far', 'process', 'inflation', 'slowed', 'businesses', 'created', 'single', 'month', 'became', 'iõm', 'guessing', 'wonõt', 'agree', 'anytime', 'soon', 'little', 'laughter', 'guess', 'ways', 'parties', 'improve', 'economic', 'say', 'hardworking', 'loses', 'êwe', 'shouldnõt', 'sure', 'unemployment', 'insurance', 'sure', 'program', 'encourages', 'retrain', 'business', 'ready', 'hire', 'êif', 'doesnõt', 'pay', 'wage', 'insurance', 'place', 'pay', 'bills', 'heõs', 'able', 'save', 'retirement', 'savings', 'everybody', 'speaker', 'ryan', 'talked', 'interest', 'tackling', 'poverty', 'giving', 'everybody', 'willing', 'chance', 'iõd', 'serious', 'discussion', 'strategies', 'support', 'expanding', 'tax', 'cuts', 'low', 'income', 'workers', 'children', 'areas', 'honest', 'difficult', 'find', 'agreement', 'seven', 'lot', 'fall', 'category', 'role', 'government', 'play', 'making', 'sure', 'systemõs', 'rigged', 'favor', 'wealthiest', 'biggest', 'corporations', 'honest', 'disagreement', 'choice', 'thriving', 'private', 'sector', 'lifeblood', 'think', 'outdated', 'regulations', 'changed', 'red', 'tape', 'needs', 'cut', 'yes', 'corporate', 'profits', 'families', 'wonõt', 'opportunity', 'bigger', 'paychecks', 'letting', 'big', 'banks', 'big', 'oil', 'hedge', 'funds', 'own', 'rules', 'everybody', 'elseõs', 'expense', 'middle', 'class', 'families', 'feel', 'secure', 'allowed', 'attacks', 'collective', 'bargaining', 'unanswered', 'food', 'stamp', 'recipients', 'cause', 'financial', 'crisis', 'recklessness', 'wall', 'street', 'immigrants', 'arenõt', 'principal', 'reason', 'wages', 'havenõt', 'gone', 'decisions', 'boardrooms', 'too', 'often', 'put', 'quarterly', 'earnings', 'long', 'term', 'returns', 'sure', 'average', 'family', 'watching', 'avoids', 'paying', 'taxes', 'through', 'offshore', 'accounts', 'point', 'workers', 'start', 'ups', 'small', 'businesses', 'voice', 'less', 'rules', 'm', 'alone', 'plan', 'lift', 'businesses', 'whoõve', 'figured', 'workers', 'customers', 'communities', 'ends', 'good', 'shareholders', 'spread', 'best', 'practices', 'across', 'part', 'brighter', 'fact', 'turns', 'best', 'corporate', 'citizens', 'creative', 'brings', 'second', 'big', 'question', 'answer', 'reignite', 'innovation', 'meet', 'biggest', 'challenges', 'sixty', 'russians', 'beat', 'space', 'didnõt', 'deny', 'sputnik', 'laughter', 'didnõt', 'argue', 'shrink', 'research', 'development', 'budget', 'built', 'space', 'program', 'almost', 'overnight', 'later', 'walking', 'moon', 'discovery', 'dna', 'brothers', 'george', 'washington', 'carver', 'hopper', 'katherine', 'johnson', 'sally', 'ride', 'immigrant', 'entrepreneur', 'boston', 'austin', 'silicon', 'valley', 'racing', 'shape', 'past', 'seven', 'nurtured', 'protected', 'open', 'internet', 'taken', 'bold', 'steps', 'students', 'low', 'income', 'online', 'launched', 'generation', 'manufacturing', 'hubs', 'online', 'tools', 'entrepreneur', 'she', 'needs', 'start', 'business', 'single', 'day', 'vice', 'biden', 'said', 'moonshot', 'cure', 'cancer', 'month', 'worked', 'scientists', 'national', 'institutes', 'resources', 'theyõve', 'decade', 'iõm', 'announcing', 'national', 'effort', 'heõs', 'gone', 'mat', 'issues', 'past', 'iõm', 'putting', 'joe', 'charge', 'mission', 'control', 'loved', 'ones', 'lost', 'families', 'save', 'letõs', 'cures', 'cancer', 'once', 'medical', 'research', 'critical', 'level', 'commitment', 'comes', 'developing', 'clean', 'energy', 'sources', 'look', 'anybody', 'wants', 'dispute', 'around', 'climate', 'êyou', 'pretty', 'lonely', 'youõll', 'debating', 'military', 'business', 'leaders', 'majority', 'almost', 'entire', 'scientific', 'community', 'nations', 'around', 'agree', 'problem', 'intend', 'solve', 'ê', 'planet', 'wasnõt', 'stake', 'wasnõt', 'warmest', 'until', 'turned', 'hotter', 'pass', 'chance', 'businesses', 'produce', 'sell', 'energy', 'listen', 'seven', 'single', 'biggest', 'investment', 'clean', 'energy', 'history', 'results', 'fields', 'iowa', 'texas', 'wind', 'power', 'cheaper', 'dirtier', 'conventional', 'power', 'rooftops', 'arizona', 'york', 'solar', 'saving', 'tens', 'millions', 'dollars', 'energy', 'bills', 'employs', 'coal', 'pay', 'average', 'weõre', 'taking', 'steps', 'homeowners', 'freedom', 'generate', 'store', 'own', 'energy', 'something', 'environmentalists', 'tea', 'partiers', 'teamed', 'support', 'meanwhile', 'cut', 'imports', 'foreign', 'oil', 'nearly', 'cut', 'carbon', 'pollution', 'any', 'earth', 'gas', 'bucks', 'gallon', 'ainõt', 'bad', 'either', 'got', 'accelerate', 'transition', 'away', 'old', 'dirtier', 'energy', 'sources', 'rather', 'subsidize', 'past', 'invest', 'especially', 'communities', 'rely', 'fossil', 'fuels', 'favor', 'show', 'trends', 'iõm', 'push', 'manage', 'oil', 'coal', 'resources', 'reflect', 'costs', 'impose', 'taxpayers', 'planet', 'put', 'money', 'communities', 'put', 'tens', 'thousands', 'building', 'st', 'century', 'transportation', 'none', 'overnight', 'yes', 'plenty', 'entrenched', 'interests', 'protect', 'status', 'quo', 'weõll', 'create', 'money', 'weõll', 'save', 'planet', 'weõll', 'preserve', 'kind', 'kids', 'grandkids', 'deserve', 'within', 'grasp', 'climate', 'issues', 'linked', 'rest', 'third', 'big', 'question', 'answer', 'safe', 'strong', 'either', 'isolating', 'ourselves', 'trying', 'build', 'everywhere', 'thereõs', 'problem', 'told', 'earlier', 'talk', 'economic', 'decline', 'political', 'hot', 'air', 'well', 'rhetoric', 'hear', 'enemies', 'getting', 'stronger', 'getting', 'weaker', 'let', 'tell', 'something', 'powerful', 'earth', 'period', 'period', 'close', 'close', 'close', 'spend', 'military', 'eight', 'nations', 'combined', 'êour', 'troops', 'finest', 'fighting', 'force', 'history', 'attacks', 'directly', 'allies', 'path', 'ruin', 'surveys', 'show', 'standing', 'around', 'higher', 'elected', 'office', 'comes', 'important', 'international', 'issue', 'look', 'beijing', 'moscow', 'lead', 'call', 'ê', 'mean', 'useful', 'level', 'set', 'good', 'decisions', 'someone', 'begins', 'day', 'intelligence', 'briefing', 'dangerous', 'primarily', 'looming', 'superpower', 'certainly', 'diminished', 'strength', 'todayõs', 'weõre', 'threatened', 'less', 'evil', 'empires', 'failing', 'middle', 'east', 'through', 'transformation', 'play', 'generation', 'rooted', 'conflicts', 'date', 'millennia', 'economic', 'headwinds', 'blowing', 'chinese', 'significant', 'transition', 'severely', 'contracts', 'russia', 'pouring', 'resources', 'prop', 'ukraine', 'syria', 'client', 'saw', 'slipping', 'away', 'orbit', 'international', 'built', 'war', 'ii', 'struggling', 'pace', 'reality', 'help', 'remake', 'well', 'means', 'got', 'set', 'priorities', 'priority', 'number', 'protecting', 'terrorist', 'networks', 'both', 'al', 'qaeda', 'isil', 'pose', 'direct', 'threat', 'todayõs', 'handful', 'terrorists', 'place', 'value', 'human', 'including', 'own', 'lot', 'damage', 'use', 'internet', 'poison', 'minds', 'individuals', 'inside', 'actions', 'undermine', 'destabilize', 'allies', 'p', 'focus', 'destroying', 'isil', 'top', 'claims', 'war', 'iii', 'play', 'hands', 'masses', 'fighters', 'pickup', 'trucks', 'twisted', 'souls', 'plotting', 'apartments', 'garages', 'pose', 'enormous', 'danger', 'civilians', 'stopped', 'threaten', 'national', 'existence', 'story', 'isil', 'wants', 'tell', 'kind', 'propaganda', 'use', 'recruit', 'donõt', 'build', 'show', 'weõre', 'serious', 'sure', 'push', 'away', 'vital', 'allies', 'fight', 'echoing', 'lie', 'isil', 'somehow', 'representative', 'worldõs', 'largest', 'religions', 'call', 'killers', 'fanatics', 'rooted', 'hunted', 'destroyed', 'exactly', 'weõre', 'led', 'coalition', 'countries', 'cut', 'off', 'isilõs', 'financing', 'disrupt', 'plots', 'stop', 'flow', 'terrorist', 'fighters', 'stamp', 'vicious', 'ideology', 'nearly', 'air', 'strikes', 'weõre', 'taking', 'leadership', 'oil', 'training', 'camps', 'weapons', 'weõre', 'training', 'arming', 'supporting', 'forces', 'steadily', 'reclaiming', 'territory', 'iraq', 'syria', 'serious', 'winning', 'war', 'wants', 'send', 'message', 'troops', 'authorize', 'use', 'military', 'force', 'against', 'isil', 'vote', 'vote', 'congressional', 'action', 'isil', 'learn', 'lessons', 'terrorists', 'doubt', 'commitment', 'mine', 'justice', 'ask', 'osama', 'bin', 'laden', 'ask', 'leader', 'al', 'qaeda', 'yemen', 'taken', 'perpetrator', 'benghazi', 'attacks', 'sits', 'prison', 'cell', 'come', 'long', 'memories', 'reach', 'limits', 'foreign', 'policy', 'hast', 'focused', 'threat', 'isil', 'al', 'qaeda', 'canõt', 'stop', 'isil', 'al', 'qaeda', 'instability', 'continue', 'decades', 'parts', 'middle', 'east', 'afghanistan', 'parts', 'pakistan', 'parts', 'central', 'africa', 'asia', 'places', 'become', 'safe', 'havens', 'terrorist', 'networks', 'others', 'fall', 'victim', 'ethnic', 'conflict', 'famine', 'feeding', 'wave', 'refugees', 'look', 'help', 'solve', 'problems', 'answer', 'needs', 'tough', 'talk', 'calls', 'carpet', 'bomb', 'civilians', 'tv', 'sound', 'bite', 'doesnõt', 'pass', 'muster', 'stage', 'canõt', 'try', 'rebuild', 'falls', 'crisis', 'best', 'intentions', 'leadership', 'recipe', 'quagmire', 'spilling', 'blood', 'treasure', 'ultimately', 'weaken', 'lesson', 'vietnam', 'lesson', 'iraq', 'learned', 'fortunately', 'smarter', 'approach', 'patient', 'disciplined', 'strategy', 'uses', 'element', 'national', 'power', 'says', 'act', 'alone', 'necessary', 'protect', 'allies', 'issues', 'global', 'concern', 'mobilize', 'sure', 'countries', 'pull', 'own', 'weight', 'approach', 'conflicts', 'syria', 'weõre', 'partnering', 'local', 'forces', 'leading', 'international', 'efforts', 'help', 'broken', 'society', 'pursue', 'lasting', 'peace', 'built', 'global', 'coalition', 'sanctions', 'principled', 'diplomacy', 'prevent', 'nuclear', 'armed', 'iran', 'speak', 'iran', 'rolled', 'nuclear', 'program', 'shipped', 'uranium', 'stockpile', 'avoided', 'another', 'war', 'stopped', 'spread', 'ebola', 'africa', 'military', 'doctors', 'development', 'workers', 'heroic', 'set', 'platform', 'allowed', 'countries', 'join', 'behind', 'stamp', 'epidemic', 'hundreds', 'thousands', 'maybe', 'couple', 'lives', 'saved', 'trans', 'pacific', 'partnership', 'open', 'markets', 'protect', 'workers', 'environment', 'advance', 'leadership', 'asia', 'cuts', 'taxes', 'products', 'which', 'support', 'good', 'tpp', 'china', 'does', 'set', 'rules', 'region', 'show', 'strength', 'century', 'approve', 'agreement', 'tools', 'enforce', 'thing', 'let', 'another', 'example', 'fifty', 'isolating', 'cuba', 'failed', 'promote', 'democracy', 'set', 'latin', 'restored', 'diplomatic', 'relations', 'opened', 'door', 'travel', 'commerce', 'positioned', 'ourselves', 'improve', 'lives', 'cuban', 'consolidate', 'leadership', 'credibility', 'hemisphere', 'recognize', 'cold', 'war', 'lift', 'embargo', 'point', 'leadership', 'st', 'century', 'choice', 'between', 'ignoring', 'rest', 'except', 'kill', 'terrorists', 'occupying', 'rebuilding', 'whatever', 'society', 'unraveling', 'leadership', 'means', 'wise', 'application', 'military', 'power', 'rallying', 'behind', 'causes', 'means', 'seeing', 'foreign', 'assistance', 'part', 'national', 'something', 'separate', 'charity', 'lead', 'nearly', 'nations', 'ambitious', 'agreement', 'history', 'fight', 'climate', 'yes', 'helps', 'vulnerable', 'countries', 'protects', 'kids', 'help', 'ukraine', 'defend', 'democracy', 'colombia', 'resolve', 'decades', 'long', 'war', 'strengthens', 'international', 'order', 'depend', 'help', 'african', 'countries', 'feed', 'sick', 'thing', 'prevents', 'pandemic', 'reaching', 'shores', 'weõre', 'track', 'end', 'scourge', 'hiv', 'aids', 'within', 'grasp', 'chance', 'accomplish', 'thing', 'malaria', 'something', 'iõll', 'pushing', 'fund', 'strength', 'leadership', 'kind', 'leadership', 'depends', 'power', 'example', 'shut', 'prison', 'guantanamo', 'expensive', 'unnecessary', 'serves', 'recruitment', 'brochure', 'enemies', 'thereõs', 'reject', 'any', 'politics', 'any', 'politics', 'targets', 'race', 'religion', 'let', 'say', 'matter', 'political', 'correctness', 'matter', 'understanding', 'strong', 'respects', 'arsenal', 'respects', 'diversity', 'openness', 'respect', 'faith', 'holiness', 'pope', 'francis', 'told', 'body', 'spot', 'm', 'standing', 'òto', 'imitate', 'hatred', 'violence', 'tyrants', 'murderers', 'best', 'place', 'ó', 'politicians', 'insult', 'muslims', 'whether', 'abroad', 'fellow', 'citizens', 'mosque', 'vandalized', 'kid', 'called', 'doesnõt', 'safer', 'telling', 'wrong', 'diminishes', 'eyes', 'harder', 'achieve', 'goals', 'betrays', 'òwe', 'ó', 'constitution', 'begins', 'simple', 'words', 'words', 'come', 'recognize', 'mean', 'words', 'insist', 'rise', 'fall', 'might', 'perfect', 'union', 'brings', 'fourth', 'maybe', 'important', 'thing', 'say', 'opportunity', 'families', 'rising', 'standard', 'living', 'sustainable', 'peaceful', 'planet', 'kids', 'within', 'reach', 'rational', 'constructive', 'debates', 'fix', 'politics', 'politics', 'doesnõt', 'mean', 'agree', 'big', 'different', 'regions', 'different', 'attitudes', 'different', 'interests', 'strengths', 'too', 'founders', 'distributed', 'power', 'between', 'branches', 'government', 'expected', 'argue', 'fiercely', 'size', 'shape', 'government', 'commerce', 'foreign', 'relations', 'meaning', 'liberty', 'imperatives', 'democracy', 'does', 'require', 'basic', 'bonds', 'trust', 'between', 'citizens', 'doesnõt', 'think', 'disagree', 'motivated', 'malice', 'doesnõt', 'think', 'political', 'opponents', 'unpatriotic', 'trying', 'weaken', 'democracy', 'grinds', 'halt', 'willingness', 'compromise', 'basic', 'facts', 'contested', 'listen', 'agree', 'public', 'withers', 'extreme', 'voices', 'attention', 'democracy', 'breaks', 'average', 'person', 'feels', 'voice', 'doesnõt', 'matter', 'rigged', 'favor', 'rich', 'powerful', 'special', 'interest', 'too', 'feel', 'few', 'regrets', 'presidency', 'rancor', 'suspicion', 'between', 'parties', 'gotten', 'worse', 'instead', 'doubt', 'gifts', 'lincoln', 'might', 'bridged', 'divide', 'guarantee', 'iõll', 'trying', 'long', 'hold', 'office', 'fellow', 'cannot', 'task', 'any', 'presidentõs', 'alone', 'whole', 'lot', 'folks', 'chamber', 'good', 'cooperation', 'elevated', 'debate', 'washington', 'feel', 'trapped', 'imperatives', 'getting', 'elected', 'noise', 'coming', 'base', 'youõve', 'told', 'worst', 'kept', 'secret', 'washington', 'lot', 'aren', 'enjoying', 'trapped', 'kind', 'rancor', 'means', 'politics', 'm', 'addressing', 'politics', 'enough', 'congressman', 'senator', 'reflect', 'selves', 'think', 've', 'got', 'end', 'practice', 'drawing', 'congressional', 'districts', 'politicians', 'pick', 'voters', 'around', 'let', 'bipartisan', 'group', 'reduce', 'influence', 'money', 'politics', 'handful', 'families', 'hidden', 'interests', 'canõt', 'bankroll', 'elections', 'existing', 'approach', 'campaign', 'finance', 'reform', 'canõt', 'pass', 'muster', 'courts', 'find', 'real', 'solution', 'problem', 'raising', 'money', 've', 'got', 'easier', 'vote', 'harder', 'modernize', 'live', 'easier', 'participate', 'course', 'intend', 'travel', 'push', 'reforms', 'canõt', 'things', 'own', 'changes', 'political', 'process', 'gets', 'elected', 'elected', 'demand', 'depends', 'whatõs', 'meant', 'government', 'iõm', 'suggesting', 'hard', 'lot', 'easier', 'cynical', 'accept', 'possible', 'politics', 'hopeless', 'problem', 'folks', 'elected', 'voices', 'actions', 'donõt', 'matter', 'forsake', 'money', 'power', 'gain', 'greater', 'control', 'decisions', 'could', 'send', 'young', 'soldier', 'war', 'allow', 'another', 'economic', 'disaster', 'roll', 'equal', 'rights', 'voting', 'rights', 'generations', 'fought', 'died', 'secure', 'frustration', 'grows', 'voices', 'urging', 'fall', 'respective', 'tribes', 'scapegoat', 'fellow', 'citizens', 'donõt', 'look', 'pray', 'vote', 'share', 'background', 'canõt', 'afford', 'path', 'wonõt', 'deliver', 'produce', 'contradicts', 'envy', 'fellow', 'whatever', 'whether', 'prefer', 'party', 'party', 'whether', 'supported', 'agenda', 'fought', 'hard', 'could', 'against', 'collective', 'futures', 'depends', 'willingness', 'uphold', 'duties', 'citizen', 'vote', 'speak', 'stand', 'others', 'especially', 'weak', 'especially', 'vulnerable', 'knowing', 'somebody', 'somewhere', 'stood', 'stay', 'active', 'public', 'election', 'public', 'single', 'day', 'easy', 'democracy', 'hard', 'promise', 'little', 'hold', 'office', 'citizen', 'voices', 'good', 'travel', 'far', 'help', 'ourselves', 'immigrant', 'voices', 'final', 'word', 'voices', 'unarmed', 'unconditional', 'love', 'theyõre', 'voices', 'donõt', 'lot', 'attention', 'lot', 'theyõre', 'needs', 'everywhere', 'travel', 'incredible', 'assembly', 'line', 'open', 'higher', 'wages', 'instead', 'off', 'comes', 'early', 'knows', 'she', 'might', 'cure', 'child', 'business', 'gives', 'second', 'chance', 'justice', 'young', 'walking', 'beat', 'everybody', 'respect', 'quiet', 'safe', 'soldier', 'gives', 'almost', 'save', 'brothers', 'community', 'son', 'come', 'love', 'son', 'heõs', 'line', 'vote', 'long', 'she', 'citizen', 'vote', 'vote', 'different', 'ways', 'love', 'big', 'unarmed', 'unconditional', 'love', 'final', 'word', 'ê', 'stand', 'state', 'union', 'strong', 'god', 'bless', 'god', 'bless']\n",
      "['trump', 'madam', 'speaker', 'mr', 'vice', 'members', 'lady', 'fellow', 'citizens', 'launched', 'comeback', 'stand', 'share', 'incredible', 'results', 'booming', 'incomes', 'soaring', 'poverty', 'plummeting', 'crime', 'falling', 'confidence', 'surging', 'thriving', 'highly', 'respected', 'again', 'enemies', 'fortunes', 'rise', 'blazing', 'bright', 'economic', 'decay', 'days', 'used', 'taken', 'advantage', 'scorned', 'nations', 'long', 'behind', 'gone', 'too', 'broken', 'promises', 'jobless', 'recoveries', 'tired', 'platitudes', 'constant', 'excuses', 'depletion', 'wealth', 'power', 'prestige', 'short', 'shattered', 'mentality', 'decline', 'rejected', 'downsizing', 'destiny', 'totally', 'rejected', 'downsizing', 'moving', 'forward', 'pace', 'unimaginable', 'short', 'thrilled', 'report', 'best', 'military', 'completely', 'rebuilt', 'power', 'unmatched', 'anywhere', 'close', 'borders', 'secure', 'families', 'flourishing', 'values', 'renewed', 'pride', 'restored', 'reasons', 'say', 'members', 'state', 'union', 'stronger', 'lay', 'evening', 'demonstrates', 'building', 'worldõs', 'prosperous', 'inclusive', 'society', 'citizen', 'join', 'unparalleled', 'success', 'community', 'part', 'extraordinary', 'rise', 'instant', 'took', 'office', 'moved', 'rapidly', 'revive', 'slashing', 'number', 'killing', 'regulations', 'enacting', 'historic', 'setting', 'tax', 'cuts', 'fighting', 'fair', 'reciprocal', 'trade', 'agreements', 'agenda', 'relentlessly', 'pro', 'pro', 'family', 'pro', 'growth', 'pro', 'advancing', 'unbridled', 'optimism', 'lifting', 'citizens', 'race', 'color', 'religion', 'election', 'created', 'seven', 'five', 'government', 'experts', 'projected', 'previous', 'unemployment', 'rate', 'lowest', 'half', 'century', 'incredibly', 'average', 'unemployment', 'rate', 'lower', 'any', 'history', 'true', 'hadnõt', 'reversed', 'failed', 'economic', 'policies', 'previous', 'witnessing', 'economic', 'success', 'unemployment', 'rate', 'african', 'hispanic', 'reached', 'lowest', 'levels', 'history', 'african', 'youth', 'unemployment', 'reached', 'low', 'african', 'poverty', 'declined', 'lowest', 'rate', 'recorded', 'unemployment', 'rate', 'women', 'reached', 'lowest', 'level', 'almost', 'women', 'filled', 'added', 'veterans', 'unemployment', 'rate', 'dropped', 'low', 'unemployment', 'rate', 'disabled', 'reached', 'low', 'workers', 'school', 'diploma', 'achieved', 'lowest', 'unemployment', 'rate', 'recorded', 'history', 'number', 'young', 'employed', 'added', 'food', 'stamp', 'rolls', 'seven', 'come', 'off', 'food', 'stamps', 'lifted', 'off', 'welfare', 'eight', 'age', 'dropped', 'force', 'age', 'joined', 'force', 'election', 'net', 'bottom', 'half', 'wage', 'earners', 'increased', 'times', 'faster', 'increase', 'top', 'decades', 'flat', 'falling', 'incomes', 'wages', 'rising', 'fast', 'wonderfully', 'rising', 'fastest', 'low', 'income', 'workers', 'seen', 'pay', 'increase', 'election', 'blue', 'collar', 'boom', 'real', 'median', 'household', 'income', 'highest', 'level', 'recorded', 'election', 'stock', 'markets', 'soared', 'adding', 'trillion', 'nationõs', 'wealth', 'transcending', 'anyone', 'possible', 'something', 'looking', 'admire', 'consumer', 'confidence', 'reached', 'amazing', 'highs', 'millions', 'k', 'pensions', 'far', 'increases', 'investments', 'pouring', 'previously', 'neglected', 'neighborhoods', 'thanks', 'opportunity', 'zones', 'plan', 'spearheaded', 'senator', 'tim', 'scott', 'part', 'tax', 'cuts', 'words', 'wealthy', 'companies', 'pouring', 'money', 'poor', 'neighborhoods', 'areas', 'havenõt', 'seen', 'investment', 'decades', 'creating', 'energy', 'excitement', 'deserving', 'communities', 'seen', 'opportunity', 'zones', 'helping', 'army', 'veteran', 'tony', 'rankins', 'cincinnati', 'ohio', 'struggling', 'drug', 'addiction', 'tony', 'lost', 'house', 'family', 'homeless', 'tony', 'found', 'construction', 'invests', 'opportunity', 'zones', 'top', 'tradesman', 'drug', 'free', 'reunited', 'family', 'tony', 'tony', 'tony', 'roaring', 'given', 'former', 'prisoners', 'ability', 'fresh', 'start', 'second', 'chance', 'possible', 'passed', 'landmark', 'justice', 'reform', 'everybody', 'said', 'justice', 'reform', 'couldnõt', 'got', 'room', 'got', 'thanks', 'bold', 'regulatory', 'reduction', 'campaign', 'become', 'producer', 'oil', 'natural', 'gas', 'anywhere', 'far', 'tremendous', 'progress', 'past', 'energy', 'independent', 'energy', 'elements', 'numbers', 'thought', 'possible', 'likewise', 'restoring', 'nationõs', 'manufacturing', 'might', 'though', 'predictions', 'could', 'losing', 'factories', 'previous', 'administrations', 'gained', 'factories', 'thousands', 'upon', 'thousands', 'plants', 'factories', 'planned', 'built', 'companies', 'leaving', 'coming', 'fact', 'everybody', 'wants', 'action', 'indeed', 'place', 'action', 'biggest', 'promises', 'replace', 'disastrous', 'nafta', 'trade', 'deal', 'fact', 'unfair', 'trade', 'perhaps', 'single', 'biggest', 'reason', 'decided', 'following', 'naftaõs', 'adoption', 'lost', 'four', 'manufacturing', 'politicians', 'came', 'went', 'pledging', 'replace', 'nafta', 'absolutely', 'nothing', 'happened', 'unlike', 'came', 'promises', 'six', 'days', 'replaced', 'nafta', 'signed', 'mexico', 'canada', 'agreement', 'm', 'c', 'create', 'nearly', 'paying', 'auto', 'massively', 'boost', 'exports', 'farmers', 'ranchers', 'factory', 'workers', 'bring', 'trade', 'mexico', 'canada', 'higher', 'level', 'greater', 'degree', 'reciprocity', 'reciprocity', 'say', 'finally', 'treated', 'fairly', 'trade', 'major', 'trade', 'deal', 'earn', 'strong', 'backing', 'labor', 'unions', 'promised', 'citizens', 'impose', 'tariffs', 'confront', 'chinaõs', 'massive', 'theft', 'strategy', 'worked', 'days', 'signed', 'groundbreaking', 'agreement', 'china', 'defend', 'workers', 'protect', 'intellectual', 'property', 'bring', 'billions', 'billions', 'dollars', 'treasury', 'open', 'vast', 'markets', 'products', 'grown', 'decades', 'china', 'taken', 'advantage', 'changed', 'perhaps', 'best', 'relationship', 'china', 'including', 'xi', 'respect', 'quite', 'frankly', 'could', 'really', 'able', 'away', 'decade', 'decade', 'someone', 'stepping', 'saying', 'òthatõs', 'enough', 'ó', 'rebuild', 'exactly', 'weõre', 'rebuilding', 'restore', 'leadership', 'throughout', 'once', 'again', 'standing', 'freedom', 'hemisphere', 'reversed', 'failing', 'policies', 'previous', 'cuba', 'supporting', 'hopes', 'cubans', 'nicaraguans', 'venezuelans', 'restore', 'democracy', 'leading', 'diplomatic', 'coalition', 'against', 'socialist', 'dictator', 'venezuela', 'nicol', 'maduro', 'maduro', 'illegitimate', 'ruler', 'tyrant', 'brutalizes', 'maduroõs', 'grip', 'tyranny', 'smashed', 'broken', 'evening', 'man', 'carries', 'hopes', 'dreams', 'aspirations', 'venezuelans', 'joining', 'gallery', 'true', 'legitimate', 'venezuela', 'juan', 'guaid', 'mr', 'message', 'homeland', 'mr', 'honor', 'message', 'venezuelan', 'righteous', 'struggle', 'freedom', 'mr', 'socialism', 'destroys', 'nations', 'remember', 'freedom', 'unifies', 'soul', 'safeguard', 'liberty', 'invested', 'breaking', 'trillion', 'military', 'purchased', 'finest', 'planes', 'missiles', 'rockets', 'ships', 'form', 'military', 'equipment', 'usa', 'getting', 'allies', 'finally', 'help', 'pay', 'fair', 'share', 'raised', 'contributions', 'nato', 'members', 'billion', 'number', 'allies', 'meeting', 'minimum', 'obligations', 'doubled', 'weeks', 'truman', 'established', 'air', 'force', 'earlier', 'created', 'branch', 'armed', 'forces', 'called', 'space', 'force', 'important', 'gallery', 'young', 'gentleman', 'wants', 'badly', 'old', 'iain', 'lanphier', 'heõs', 'eighth', 'grader', 'arizona', 'iain', 'stand', 'iain', 'dreamed', 'space', 'class', 'among', 'youngest', 'aviation', 'academy', 'aspires', 'air', 'force', 'academy', 'eye', 'space', 'force', 'iain', 'says', 'òmost', 'look', 'space', 'look', 'ó', 'laughter', 'sitting', 'behind', 'iain', 'greatest', 'hero', 'charles', 'mcgee', 'cleveland', 'ohio', 'century', 'charles', 'surviving', 'tuskegee', 'airmen', 'fighter', 'pilots', 'happens', 'iainõs', 'grandfather', 'incredible', 'story', 'combat', 'missions', 'war', 'ii', 'came', 'home', 'struggling', 'civil', 'rights', 'went', 'serve', 'korea', 'vietnam', 'dec', 'th', 'charles', 'celebrated', 'th', 'birthday', 'few', 'weeks', 'signed', 'bill', 'promoting', 'charles', 'mcgee', 'brigadier', 'general', 'earlier', 'today', 'pinned', 'stars', 'shoulders', 'oval', 'office', 'general', 'mcgee', 'salutes', 'sir', 'pilgrims', 'founders', 'soldiers', 'valley', 'forge', 'marchers', 'selma', 'lincoln', 'rev', 'martin', 'luther', 'rejected', 'limits', 'childrenõs', 'members', 'forget', 'victories', 'matter', 'washington', 'victories', 'deliver', 'heart', 'dreams', 'soul', 'love', 'powers', 'sustains', 'remember', 'put', 'step', 'forward', 'building', 'inclusive', 'society', 'making', 'sure', 'young', 'gets', 'education', 'opportunity', 'achieve', 'dream', 'yet', 'too', 'long', 'countless', 'children', 'trapped', 'failing', 'government', 'schools', 'rescue', 'students', 'created', 'school', 'choice', 'form', 'opportunity', 'scholarships', 'programs', 'popular', 'tens', 'thousands', 'students', 'remain', 'waiting', 'list', 'students', 'janiyah', 'davis', 'fourth', 'grader', 'philadelphia', 'janiyah', 'janiyahõs', 'mom', 'stephanie', 'single', 'parent', 'she', 'daughter', 'put', 'further', 'reach', 'pennsylvaniaõs', 'governor', 'vetoed', 'legislation', 'expand', 'school', 'choice', 'children', 'janiyah', 'stephanie', 'gallery', 'stephanie', 'beautiful', 'daughter', 'janiyah', 'good', 'news', 'pleased', 'inform', 'long', 'proudly', 'announce', 'opportunity', 'scholarship', 'become', 'available', 'soon', 'heading', 'school', 'choice', 'call', 'children', 'opportunity', 'janiyah', 'received', 'pass', 'education', 'freedom', 'scholarships', 'opportunities', 'act', 'parent', 'forced', 'send', 'child', 'failing', 'government', 'school', 'young', 'person', 'safe', 'secure', 'environment', 'which', 'learn', 'grow', 'reason', 'magnificent', 'lady', 'launched', 'best', 'initiative', 'advance', 'safe', 'healthy', 'supportive', 'drug', 'free', 'generation', 'online', 'school', 'communities', 'melania', 'extraordinary', 'love', 'profound', 'children', 'citizens', 'opportunities', 'regardless', 'age', 'background', 'through', 'pledge', 'workers', 'companies', 'provide', 'education', 'opportunities', 'almost', 'budget', 'contains', 'exciting', 'nationõs', 'schools', 'ask', 'support', 'students', 'plan', 'offer', 'vocational', 'technical', 'education', 'single', 'school', 'expand', 'equal', 'opportunity', 'proud', 'achieved', 'permanent', 'funding', 'nationõs', 'historically', 'colleges', 'universities', 'good', 'families', 'requires', 'affordable', 'innovative', 'quality', 'earth', 'took', 'office', 'insurance', 'premiums', 'doubled', 'five', 'moved', 'quickly', 'provide', 'affordable', 'alternatives', 'plans', 'less', 'expensive', 'iõve', 'ironclad', 'pledge', 'families', 'protect', 'patients', 'pre', 'existing', 'conditions', 'protect', 'medicare', 'protect', 'social', 'patient', 'blindsided', 'medical', 'bills', 'signed', 'executive', 'order', 'requiring', 'price', 'transparency', 'experts', 'transparency', 'which', 'full', 'effect', 'beginning', 'bigger', 'reform', 'save', 'families', 'massive', 'amounts', 'money', 'substantially', 'improve', 'americansõ', 'away', 'away', 'doctor', 'abolish', 'private', 'insurance', 'entirely', 'audience', 'booo', 'hundred', 'thirty', 'lawmakers', 'room', 'endorsed', 'legislation', 'impose', 'socialist', 'takeover', 'wiping', 'private', 'insurance', 'plans', 'happy', 'watching', 'home', 'let', 'socialism', 'destroy', 'legislators', 'chamber', 'endorsed', 'legislation', 'bankrupt', 'providing', 'free', 'taxpayer', 'funded', 'millions', 'illegal', 'aliens', 'forcing', 'taxpayers', 'subsidize', 'free', 'anyone', 'unlawfully', 'crosses', 'borders', 'proposals', 'raid', 'medicare', 'benefits', 'seniors', 'seniors', 'depend', 'while', 'acting', 'powerful', 'lure', 'illegal', 'immigration', 'happening', 'california', 'systems', 'totally', 'control', 'costing', 'taxpayers', 'vast', 'unaffordable', 'amounts', 'money', 'forcing', 'taxpayers', 'provide', 'unlimited', 'free', 'illegal', 'aliens', 'sounds', 'fair', 'stand', 'radical', 'left', 'defend', 'patients', 'seniors', 'stand', 'pass', 'legislation', 'prohibit', 'free', 'government', 'illegal', 'aliens', 'tremendous', 'boon', 'already', 'strongly', 'guarded', 'southern', 'border', 'speak', 'long', 'tall', 'powerful', 'wall', 'built', 'completed', 'miles', 'miles', 'fully', 'completed', 'short', 'period', 'early', 'substantially', 'miles', 'completed', 'taking', 'big', 'pharmaceutical', 'companies', 'approved', 'number', 'affordable', 'generic', 'drugs', 'medicines', 'approved', 'f', 'd', 'faster', 'clip', 'pleased', 'announce', 'cost', 'prescription', 'drugs', 'actually', 'went', 'reduce', 'drug', 'prices', 'substantially', 'current', 'levels', 'iõve', 'speaking', 'senator', 'chuck', 'grassley', 'iowa', 'others', 'order', 'something', 'drug', 'pricing', 'quickly', 'properly', 'iõm', 'calling', 'bipartisan', 'legislation', 'achieves', 'goal', 'dramatically', 'lowering', 'prescription', 'drug', 'prices', 'bill', 'desk', 'sign', 'immediately', 'audience', 'h', 'r', 'h', 'r', 'h', 'r', 'unyielding', 'commitment', 'curbing', 'opioid', 'epidemic', 'drug', 'overdose', 'deaths', 'declined', 'nearly', 'among', 'hardest', 'hit', 'ohio', 'pennsylvania', 'wisconsin', 'quit', 'until', 'beaten', 'opioid', 'epidemic', 'once', 'protecting', 'americansõ', 'means', 'fighting', 'infectious', 'diseases', 'coordinating', 'chinese', 'government', 'closely', 'coronavirus', 'outbreak', 'china', 'necessary', 'steps', 'safeguard', 'citizens', 'threat', 'launched', 'ambitious', 'initiatives', 'substantially', 'improve', 'kidney', 'alzheimerõs', 'struggling', 'mental', 'good', 'fund', 'request', 'cures', 'childhood', 'cancer', 'eradicate', 'aids', 'epidemic', 'end', 'decade', 'almost', 'family', 'knows', 'pain', 'loved', 'diagnosed', 'serious', 'illness', 'special', 'man', 'beloved', 'millions', 'received', 'stage', 'advanced', 'cancer', 'diagnosis', 'good', 'news', 'good', 'news', 'greatest', 'fighter', 'winner', 'meet', 'rush', 'limbaugh', 'decades', 'tireless', 'devotion', 'rush', 'recognition', 'millions', 'day', 'speak', 'inspire', 'incredible', 'charity', 'proud', 'announce', 'receiving', 'countryõs', 'highest', 'civilian', 'honor', 'presidential', 'medal', 'freedom', 'ask', 'lady', 'present', 'honor', 'medal', 'freedom', 'presented', 'rush', 'kathryn', 'congratulations', 'kathryn', 'pray', 'sick', 'constantly', 'achieving', 'medical', 'breakthroughs', 'doctors', 'st', 'lukeõs', 'hospital', 'kansas', 'city', 'delivered', 'earliest', 'premature', 'babies', 'survive', 'weeks', 'days', 'weighing', 'less', 'pound', 'ellie', 'schneider', 'fighter', 'through', 'skill', 'doctors', 'prayers', 'parents', 'little', 'ellie', 'kept', 'winning', 'battle', 'today', 'ellie', 'strong', 'healthy', 'old', 'girl', 'sitting', 'amazing', 'mother', 'robin', 'gallery', 'ellie', 'robin', 'glad', 'ellie', 'reminds', 'child', 'miracle', 'thanks', 'modern', 'medical', 'wonders', 'premature', 'babies', 'delivered', 'hospital', 'ellie', 'survive', 'incredible', 'thing', 'goal', 'ensure', 'baby', 'best', 'chance', 'thrive', 'grow', 'ellie', 'iõm', 'asking', 'provide', 'additional', 'fund', 'neonatal', 'research', 'youngest', 'patients', 'iõm', 'calling', 'upon', 'members', 'pass', 'legislation', 'finally', 'banning', 'term', 'abortion', 'babies', 'whether', 'independent', 'surely', 'agree', 'human', 'sacred', 'gift', 'god', 'support', 'moms', 'dads', 'recently', 'proud', 'sign', 'providing', 'parents', 'federal', 'force', 'paid', 'family', 'leave', 'serving', 'model', 'rest', 'call', 'pass', 'bipartisan', 'advancing', 'support', 'families', 'act', 'extending', 'family', 'leave', 'mothers', 'fathers', 'across', 'forty', 'families', 'average', 'thanks', 'child', 'tax', 'credit', 'iõve', 'overseen', 'historic', 'funding', 'increases', 'quality', 'child', 'enabling', 'help', 'children', 'which', 'reduced', 'eliminated', 'waitlists', 'altogether', 'sent', 'plan', 'further', 'expand', 'access', 'quality', 'child', 'urge', 'act', 'immediately', 'protect', 'environment', 'days', 'announced', 'join', 'trillion', 'trees', 'initiative', 'ambitious', 'effort', 'bring', 'government', 'private', 'sector', 'plant', 'trees', 'around', 'rebuild', 'infrastructure', 'ask', 'pass', 'senator', 'john', 'barrassoõs', 'highway', 'bill', 'invest', 'roads', 'bridges', 'tunnels', 'across', 'land', 'iõm', 'committed', 'ensuring', 'citizen', 'access', 'speed', 'internet', 'including', 'especially', 'rural', 'tomorrow', 'requires', 'safe', 'means', 'supporting', 'men', 'women', 'enforcement', 'level', 'including', 'nationõs', 'heroic', 'ice', 'officers', 'ice', 'officers', 'arrested', 'aliens', 'charged', 'nearly', 'burglaries', 'sexual', 'assaults', 'violent', 'assaults', 'murders', 'tragically', 'cities', 'radical', 'politicians', 'chosen', 'provide', 'illegal', 'aliens', 'audience', 'booo', 'cities', 'local', 'officials', 'order', 'police', 'release', 'dangerous', 'aliens', 'prey', 'upon', 'public', 'instead', 'handing', 'ice', 'safely', 'removed', 'days', 'alien', 'freed', 'city', 'york', 'charged', 'brutal', 'rape', 'murder', 'old', 'killer', 'previously', 'arrested', 'assault', 'yorkõs', 'policies', 'set', 'free', 'city', 'honored', 'iceõs', 'detainer', 'request', 'victim', 'alive', 'today', 'state', 'california', 'passed', 'outrageous', 'declaring', 'whole', 'state', 'illegal', 'immigrants', 'terrible', 'catastrophic', 'results', 'tragic', 'example', 'december', 'california', 'police', 'detained', 'illegal', 'alien', 'five', 'prior', 'arrests', 'including', 'convictions', 'robbery', 'assault', 'required', 'californiaõs', 'local', 'authorities', 'released', 'days', 'later', 'alien', 'went', 'gruesome', 'spree', 'deadly', 'violence', 'viciously', 'shot', 'man', 'approached', 'sitting', 'car', 'shot', 'arm', 'chest', 'walked', 'convenience', 'store', 'wildly', 'fired', 'weapon', 'hijacked', 'truck', 'smashed', 'vehicles', 'critically', 'injuring', 'innocent', 'victims', 'victims', 'terrible', 'terrible', 'situation', 'died', 'old', 'named', 'rocky', 'jones', 'rocky', 'gas', 'station', 'vile', 'fired', 'eight', 'bullets', 'close', 'range', 'murdering', 'cold', 'blood', 'rocky', 'left', 'behind', 'devoted', 'family', 'including', 'brothers', 'loved', 'else', 'grieving', 'brothers', 'jody', 'stand', 'jody', 'jody', 'hearts', 'weep', 'loss', 'rest', 'until', 'justice', 'senator', 'thom', 'tillis', 'introduced', 'legislation', 'allow', 'jody', 'sue', 'cities', 'loved', 'hurt', 'killed', 'result', 'deadly', 'practices', 'ask', 'pass', 'justice', 'victims', 'cities', 'act', 'immediately', 'abiding', 'aliens', 'ice', 'arrested', 'wicked', 'human', 'traffickers', 'signed', 'nine', 'pieces', 'legislation', 'stamp', 'menace', 'human', 'trafficking', 'domestically', 'around', 'globe', 'undertaken', 'unprecedented', 'effort', 'secure', 'southern', 'border', 'came', 'office', 'showed', 'illegally', 'southern', 'border', 'arrested', 'simply', 'released', 'allowed', 'seen', 'again', 'ended', 'catch', 'release', 'come', 'illegally', 'promptly', 'removed', 'importantly', 'entered', 'historic', 'cooperation', 'agreements', 'governments', 'mexico', 'honduras', 'el', 'salvador', 'guatemala', 'result', 'unprecedented', 'efforts', 'illegal', 'crossings', 'dropping', 'eight', 'months', 'row', 'wall', 'rapidly', 'goes', 'drug', 'seizures', 'rise', 'border', 'crossings', 'rapidly', 'traveled', 'border', 'texas', 'met', 'chief', 'patrol', 'agent', 'raul', 'ortiz', 'months', 'agent', 'ortiz', 'team', 'seized', 'pounds', 'poisonous', 'narcotics', 'arrested', 'human', 'smugglers', 'rescued', 'migrants', 'days', 'agent', 'ortiz', 'promoted', 'deputy', 'chief', 'border', 'patrol', 'joins', 'chief', 'ortiz', 'stand', 'grateful', 'thanks', 'heroes', 'border', 'patrol', 'ice', 'build', 'historic', 'gains', 'legislation', 'replace', 'outdated', 'randomized', 'immigration', 'based', 'merit', 'welcoming', 'follow', 'rules', 'contribute', 'support', 'themselves', 'financially', 'uphold', 'values', 'action', 'restoring', 'rule', 'reasserting', 'culture', 'freedom', 'senate', 'majority', 'leader', 'mitch', 'mcconnell', 'mitch', 'colleagues', 'senate', 'confirmed', 'number', 'federal', 'judges', 'uphold', 'constitution', 'written', 'includes', 'brilliant', 'supreme', 'court', 'justices', 'neil', 'gorsuch', 'brett', 'kavanaugh', 'pipeline', 'laughter', 'defending', 'religious', 'liberty', 'includes', 'constitutional', 'pray', 'public', 'schools', 'donõt', 'punish', 'prayer', 'donõt', 'tear', 'crosses', 'donõt', 'ban', 'symbols', 'faith', 'donõt', 'muzzle', 'preachers', 'pastors', 'celebrate', 'faith', 'cherish', 'religion', 'lift', 'voices', 'prayer', 'raise', 'sights', 'glory', 'god', 'amendment', 'another', 'constitutional', 'siege', 'across', 'long', 'protect', 'second', 'amendment', 'bear', 'arms', 'reaffirming', 'heritage', 'free', 'remember', 'frontier', 'embrace', 'frontier', 'manifest', 'destiny', 'stars', 'asking', 'fully', 'fund', 'artemis', 'program', 'ensure', 'man', 'moon', 'astronauts', 'using', 'launching', 'pad', 'ensure', 'plant', 'flag', 'mars', 'strongly', 'defending', 'national', 'combating', 'radical', 'islamic', 'terrorism', 'week', 'announced', 'groundbreaking', 'plan', 'peace', 'between', 'israel', 'palestinians', 'recognizing', 'past', 'attempts', 'failed', 'creative', 'order', 'stabilize', 'region', 'millions', 'young', 'chance', 'realize', 'barbarians', 'isis', 'held', 'square', 'miles', 'territory', 'iraq', 'syria', 'today', 'isis', 'territorial', 'caliphate', 'destroyed', 'founder', 'leader', 'isis', 'bloodthirsty', 'killer', 'known', 'al', 'baghdadi', 'dead', 'joined', 'evening', 'carl', 'marsha', 'mueller', 'graduating', 'college', 'beautiful', 'daughter', 'kayla', 'became', 'humanitarian', 'aid', 'she', 'once', 'wrote', 'òsome', 'find', 'god', 'church', 'find', 'god', 'nature', 'find', 'god', 'love', 'find', 'god', 'suffering', 'iõve', 'known', 'lifeõs', 'using', 'hands', 'tools', 'relieve', 'suffering', 'ó', 'while', 'caring', 'suffering', 'civilians', 'syria', 'kayla', 'kidnapped', 'tortured', 'enslaved', 'isis', 'kept', 'prisoner', 'al', 'baghdadi', 'himself', 'horrifying', 'days', 'captivity', 'al', 'baghdadi', 'murdered', 'young', 'beautiful', 'kayla', 'she', 'old', 'night', 'special', 'forces', 'operations', 'ended', 'al', 'baghdadiõs', 'miserable', 'chairman', 'joint', 'chiefs', 'staff', 'general', 'mark', 'milley', 'received', 'call', 'situation', 'room', 'told', 'men', 'elite', 'special', 'forces', 'team', 'perfectly', 'carried', 'operation', 'given', 'mission', 'name', 'òtask', 'force', 'ó', 'reference', 'special', 'day', 'aug', 'kaylaõs', 'birthday', 'carl', 'marsha', 'warriors', 'forgot', 'kayla', 'neither', 'day', 'men', 'women', 'uniform', 'demonstrate', 'infinite', 'depth', 'love', 'dwells', 'human', 'heart', 'heroes', 'army', 'staff', 'sgt', 'christopher', 'hake', 'second', 'deployment', 'iraq', 'sergeant', 'hake', 'wrote', 'letter', 'old', 'son', 'gage', 'òi', 'again', 'ó', 'wrote', 'gage', 'òi', 'teach', 'ride', 'bike', 'build', 'sand', 'box', 'watch', 'play', 'sports', 'kids', 'love', 'son', 'mother', 'daddy', 'ó', 'easter', 'sunday', 'chris', 'patrol', 'baghdad', 'bradley', 'fighting', 'vehicle', 'hit', 'roadside', 'bomb', 'night', 'ultimate', 'sacrifice', 'sergeant', 'hake', 'rests', 'eternal', 'glory', 'arlington', 'wife', 'kelli', 'gallery', 'joined', 'son', 'old', 'well', 'kelli', 'gage', 'chris', 'live', 'hearts', 'forever', 'looking', 'both', 'terrorist', 'responsible', 'killing', 'sergeant', 'hake', 'qassim', 'suleimani', 'provided', 'deadly', 'roadside', 'bomb', 'took', 'chrisõs', 'suleimani', 'iranian', 'regimeõs', 'ruthless', 'butcher', 'monster', 'murdered', 'wounded', 'thousands', 'service', 'members', 'iraq', 'worldõs', 'top', 'terrorist', 'suleimani', 'orchestrated', 'deaths', 'countless', 'men', 'women', 'children', 'directed', 'december', 'assault', 'went', 'assault', 'forces', 'iraq', 'actively', 'planning', 'attacks', 'hit', 'hard', 'month', 'direction', 'military', 'executed', 'flawless', 'precision', 'strike', 'killed', 'suleimani', 'terminated', 'evil', 'reign', 'terror', 'forever', 'message', 'terrorists', 'escape', 'justice', 'attack', 'citizens', 'forfeit', 'recent', 'months', 'seen', 'proud', 'iranians', 'raise', 'voices', 'against', 'oppressive', 'rulers', 'iranian', 'regime', 'abandon', 'pursuit', 'nuclear', 'weapons', 'stop', 'spreading', 'terror', 'death', 'destruction', 'start', 'good', 'own', 'powerful', 'sanctions', 'iranian', 'poorly', 'help', 'good', 'short', 'recovery', 'quickly', 'perhaps', 'too', 'proud', 'too', 'foolish', 'ask', 'help', 'letõs', 'which', 'road', 'choose', 'totally', 'defend', 'lives', 'end', 'wars', 'middle', 'east', 'afghanistan', 'determination', 'valor', 'warfighters', 'allowed', 'tremendous', 'progress', 'peace', 'talks', 'underway', 'looking', 'kill', 'hundreds', 'thousands', 'afghanistan', 'totally', 'innocent', 'function', 'serve', 'nations', 'enforcement', 'agencies', 'warfighters', 'best', 'either', 'fight', 'win', 'fight', 'finally', 'end', 'longest', 'war', 'bring', 'troops', 'home', 'war', 'places', 'heavy', 'burden', 'nationõs', 'extraordinary', 'military', 'families', 'especially', 'spouses', 'amy', 'williams', 'fort', 'bragg', 'north', 'carolina', 'children', 'old', 'elliana', 'old', 'rowan', 'amy', 'works', 'full', 'countless', 'hours', 'helping', 'military', 'families', 'past', 'seven', 'months', 'she', 'while', 'husband', 'sgt', 'class', 'williams', 'afghanistan', 'fourth', 'deployment', 'middle', 'east', 'kids', 'havenõt', 'seen', 'face', 'months', 'amy', 'sacrifice', 'possible', 'families', 'live', 'peace', 'amy', 'amy', 'thing', 'special', 'thrilled', 'inform', 'husband', 'deployment', 'couldnõt', 'waiting', 'any', 'audience', 'home', 'sergeant', 'williams', 'land', 'heroes', 'place', 'come', 'home', 'including', 'washington', 'home', 'lincoln', 'brothers', 'neil', 'children', 'learn', 'place', 'pilgrims', 'texas', 'stand', 'alamo', 'beautiful', 'beautiful', 'alamo', 'vast', 'frontier', 'men', 'women', 'face', 'earth', 'ancestors', 'settled', 'lifted', 'millions', 'poverty', 'tyranny', 'raised', 'ancestors', 'built', 'human', 'history', 'making', 'greater', 'magnificent', 'settled', 'built', 'modern', 'changed', 'history', 'forever', 'eternal', 'equal', 'god', 'place', 'place', 'anyone', 'rise', 'land', 'incredible', 'dreams', 'come', 'true', 'look', 'tomorrow', 'unlimited', 'waiting', 'yet', 'known', 'yet', 'told', 'yet', 'age', 'young', 'rising', 'fellow', 'best', 'yet', 'come', 'god', 'bless', 'god', 'bless']\n",
      "2260\n",
      "2551\n"
     ]
    }
   ],
   "source": [
    "words_to_remove = []\n",
    "\n",
    "# a function to create a list of words to remove from above result\n",
    "def append_words(current_list, dict_words):\n",
    "    for w in dict_words:\n",
    "        if w[0] not in current_list:\n",
    "            current_list.append(w[0])\n",
    "    return current_list\n",
    "\n",
    "words_to_remove = append_words(words_to_remove, obama_stopword_freq[:100])\n",
    "words_to_remove = append_words(words_to_remove, trump_stopword_freq[:100])\n",
    "words_to_remove = append_words(words_to_remove, obama_common_words)\n",
    "words_to_remove = append_words(words_to_remove, trump_common_words)\n",
    "words_to_remove = append_words(words_to_remove, obama_rare_words)\n",
    "words_to_remove = append_words(words_to_remove, trump_rare_words)\n",
    "\n",
    "obama_cleaned = [w for w in obama_lower if w not in words_to_remove]\n",
    "trump_cleaned = [w for w in trump_lower if w not in words_to_remove]\n",
    "\n",
    "print(obama_cleaned)\n",
    "print(trump_cleaned)\n",
    "print(len(obama_cleaned))\n",
    "print(len(trump_cleaned))"
   ],
   "metadata": {
    "collapsed": false,
    "pycharm": {
     "name": "#%%\n"
    }
   }
  },
  {
   "cell_type": "markdown",
   "source": [
    "Save results into Results file."
   ],
   "metadata": {
    "collapsed": false,
    "pycharm": {
     "name": "#%% md\n"
    }
   }
  },
  {
   "cell_type": "code",
   "execution_count": 60,
   "outputs": [],
   "source": [
    "ans_stopwords_o = obama_stopword_freq[:100]\n",
    "ans_stopwords_t = trump_stopword_freq[:100]\n",
    "ans_commonwords_o = obama_common_words\n",
    "ans_commonwords_t = trump_common_words\n",
    "ans_rarewords_o = obama_rare_words\n",
    "ans_rarewords_t =trump_rare_words\n",
    "\n",
    "with open('Result.txt', 'a') as file:\n",
    "    file.write(\"\\n\\n\")\n",
    "    file.write(\"###########################################################\\n\")\n",
    "    file.write(\"###########################################################\\n\")\n",
    "    file.write(\"######################Processing Log######################\\n\")\n",
    "    file.write(\"###########################################################\\n\")\n",
    "    file.write(\"###########################################################\\n\")\n",
    "    file.write(\"The answer appears in (word, frequency) format, sorted by descending order.\\n\")\n",
    "    file.write(\"\\n(1) Stop Words\\n\")\n",
    "    file.write(\"<Obama Speech>\\n\")\n",
    "    file.write(\"a) Top 100 Stop Words\\n\")\n",
    "    file.write(str(ans_stopwords_o))\n",
    "    file.write(\"\\n\\n\\nb) Top 100 Common Words\\n\\n\")\n",
    "    file.write(str(ans_commonwords_o))\n",
    "    file.write(\"\\n\\n\\nc) Top 100 Rare Words\\n\\n\")\n",
    "    file.write(str(ans_rarewords_o))\n",
    "    file.write(\"\\n\\n\\n<Trump Speech>\\n\")\n",
    "    file.write(\"a) Top 100 Stop Words\\n\\n\")\n",
    "    file.write(str(ans_stopwords_t))\n",
    "    file.write(\"\\n\\n\\nb) Top 100 Common Words\\n\\n\")\n",
    "    file.write(str(ans_commonwords_t))\n",
    "    file.write(\"\\n\\n\\nc) Top 100 Rare Words\\n\\n\")\n",
    "    file.write(str(ans_rarewords_t))\n",
    "    file.write(\"\\n\\n\\n\\n\")"
   ],
   "metadata": {
    "collapsed": false,
    "pycharm": {
     "name": "#%%\n"
    }
   }
  },
  {
   "cell_type": "markdown",
   "metadata": {},
   "source": [
    "### Q.3  Word Association (I)  (20 marks)\n",
    "\n",
    "Use two ways: (1) loop structure and (2) regular expression, to find out the set of all nouns that appear immediately before or after the following words, case-insensitive. \n",
    "\n",
    "```\n",
    "WordList = [\"America\",\"future\",\"country\",\"people\",\"world\"]\n",
    "```\n",
    "\n",
    "Print the two sets of nouns from the two speeches and store them in a section called \"Word Association (I)\" in the \"Result.txt\" file.  \n",
    "\n",
    "How would you compare the the two sets and what are your observations?\n",
    "\n",
    "Exlain and justify your answer. \n"
   ]
  },
  {
   "cell_type": "code",
   "execution_count": 61,
   "metadata": {},
   "outputs": [],
   "source": [
    "# create a list for each sentence in lower case\n",
    "sentences_obama = nltk.sent_tokenize(obama_txt)\n",
    "sentences_trump = nltk.sent_tokenize(trump_txt)\n",
    "#sentences = (sentence.lower() for sentence in sentences)"
   ]
  },
  {
   "cell_type": "markdown",
   "source": [
    "(1) Loop Structure"
   ],
   "metadata": {
    "collapsed": false,
    "pycharm": {
     "name": "#%% md\n"
    }
   }
  },
  {
   "cell_type": "code",
   "execution_count": 62,
   "outputs": [
    {
     "name": "stdout",
     "output_type": "stream",
     "text": [
      "['helping', 'our', 'the', 'the', 'threatening', 'more', 'a', 'the', 'the', 'a', 'keep', 'the', 'of', 'the', 'young', 'to', 'only', 'in', 'million', 'american', 'across', 'brighter', 'a', 'better', 'moonshot', 'make', 'the', 'american', 'the', 'the', 'other', 'the', 'of', 'the', 'keep', 'and', 'of', 'the', 'the', 'issue', 'the', 'todayõs', 'after', 'of', 'american', 'our', 'todayõs', 'our', 'is', 'year', 'the', 'american', 'the', 'central', 'the', 'the', 'every', 'says', 'our', 'the', 'the', 'in', 'in', 'latin', 'cuban', 'the', 'the', 'their', 'targets', 'the', 'the', 'a', 'the', 'the', 'the', 'big', 'the', 'weaken', 'good', 'american', 'is', 'for', 'the', 'american', 'the', 'better', 'the', 'american', 'helped', 'this', 'incredible', 'american', 'our', 'the', 'the', 'our', 'american', 'of'] \n",
      " ['who', 'has', 'who', 'under', 'with', 'and', 'have', 'safe', 'without', 'right', 'ê', 'to', 'they', 'in', 'who', 'have', 'is', 'have', 'have', 'is', 'is', 'is', 'can', 'the', 'that', 'almost', 'who', 'on', 'especially', 'our', 'safe', 'getting', 'is', 'is', 'of', 'do', 'weõre', 'war', 'to', 'and', 'because', 'even', 'war', 'has', 'authorize', 'should', 'in', 'in', 'will', 'stage', 'that', 'will', 'and', 'to', 'has', 'which', 'except', 'behind', 'and', 'because', 'respects', 'ó', 'not', 'we', 'different', 'who', 'who', 'now', 'we', 'to', 'to', 'demand', 'every', 'travel', 'needs', 'of', 'unfolding', 'i', 'we'] \n",
      " ['our', 'americaõs', 'our', 'the', 'the', 'great', 'our', 'the', 'million', 'million', 'age', 'million', 'age', 'every', 'the', 'of', 'wealthy', 'the', 'the', 'years', 'our', 'administrations', 'of', 'american', 'our', 'our', 'our', 'the', 'his', 'venezuelan', 'òmost', 'the', 'in', 'a', 'serve', 'childrenõs', 'american', 'the', 'our', 'our', 'our', 'put', 'better', 'that', 'in', 'the', 'in', 'our', 'of', 'that', 'the', 'in', 'the', 'rural', 'keep', 'in', 'the', 'of', 'our', 'our', 'in', 'in', 'our', 'that', 'that', 'young', 'better', 'òsome', 'some', 'some', 'our', 'own', 'of', 'the', 'the', 'tonight', 'the', 'the', 'new', 'modern', 'this', 'bless'] \n",
      " ['is', 'is', 'being', 'ñ', 'of', 'and', 'would', 'were', 'have', 'dropped', 'ñ', 'ñ', 'in', 'is', 'with', 'and', 'in', 'by', 'is', 'are', 'has', 'is', 'was', 'stepping', 'and', 'we', 'in', 'look', 'ó', 'war', 'still', 'in', 'are', 'their', 'and', 'first', 'was', 'who', 'by', 'a', 'is', 'and', 'safe', 'where', 'should', 'never', 'we', 'we', 'has', 'is', 'the', 'find', 'find', 'find', 'in', 'ñ', 'bears', 'is', 'where', 'to', 'we', 'and', 'is', 'is', 'is']\n"
     ]
    }
   ],
   "source": [
    "wordlist = [\"america\", \"future\", \"country\", \"people\", \"world\"]\n",
    "\n",
    "def get_words_followed(sentences):\n",
    "    sentences = (sentence.lower() for sentence in sentences)\n",
    "    follow_before_words_l = []\n",
    "    follow_after_words_l = []\n",
    "\n",
    "    for sentence in sentences:\n",
    "        word_tokens = list(gensim.utils.tokenize(sentence.encode()))\n",
    "        for i in range(len(word_tokens)-1):\n",
    "            if word_tokens[i+1] in wordlist:\n",
    "                follow_before_words_l.append(word_tokens[i])\n",
    "        for i in range(1, len(word_tokens)):\n",
    "            if word_tokens[i-1] in wordlist:\n",
    "                follow_after_words_l.append(word_tokens[i])\n",
    "    return follow_before_words_l, follow_after_words_l\n",
    "\n",
    "obama_before = get_words_followed(sentences_obama)[0]\n",
    "obama_after = get_words_followed(sentences_obama)[1]\n",
    "trump_before = get_words_followed(sentences_trump)[0]\n",
    "trump_after = get_words_followed(sentences_trump)[1]\n",
    "\n",
    "print(obama_before,\"\\n\",obama_after,\"\\n\",trump_before,\"\\n\",trump_after)"
   ],
   "metadata": {
    "collapsed": false,
    "pycharm": {
     "name": "#%%\n"
    }
   }
  },
  {
   "cell_type": "markdown",
   "source": [
    "(2) Regular Expression"
   ],
   "metadata": {
    "collapsed": false,
    "pycharm": {
     "name": "#%% md\n"
    }
   }
  },
  {
   "cell_type": "code",
   "execution_count": 63,
   "outputs": [
    {
     "name": "stdout",
     "output_type": "stream",
     "text": [
      "['helping', 'our', 'the', 'the', 'more', 'a', 'the', 'the', 'keep', 'of', 'young', 'to', 'only', 'million', 'american', 'across', 'brighter', 'a', 'better', 'moonshot', 'make', 'american', 'the', 'other', 'the', 'of', 'the', 'keep', 'and', 'of', 'the', 'the', 'todayõs', 'after', 'of', 'american', 'our', 'our', 'is', 'year', 'the', 'american', 'the', 'the', 'the', 'every', 'says', 'the', 'in', 'latin', 'cuban', 'the', 'the', 'their', 'targets', 'the', 'the', 'a', 'the', 'the', 'big', 'the', 'weaken', 'good', 'american', 'is', 'the', 'american', 'the', 'better', 'the', 'american', 'helped', 'this', 'incredible', 'american', 'our', 'the', 'the', 'our', 'american', 'of']\n",
      "['who', 'has', 'who', 'with', 'and', 'safe', 'right', 'to', 'they', 'in', 'have', 'is', 'have', 'have', 'is', 'is', 'is', 'can', 'the', 'almost', 'on', 'especially', 'our', 'safe', 'getting', 'is', 'is', 'weõre', 'war', 'to', 'and', 'because', 'war', 'has', 'authorize', 'should', 'in', 'will', 'stage', 'that', 'will', 'has', 'which', 'except', 'behind', 'and', 'because', 'respects', 'ó', 'we', 'different', 'who', 'who', 'now', 'we', 'to', 'demand', 'every', 'travel', 'needs', 'of', 'unfolding', 'i', 'we']\n",
      "['our', 'americaõs', 'our', 'the', 'the', 'our', 'the', 'million', 'million', 'age', 'million', 'every', 'of', 'wealthy', 'the', 'the', 'years', 'administrations', 'of', 'american', 'our', 'our', 'our', 'the', 'his', 'venezuelan', 'òmost', 'the', 'in', 'childrenõs', 'american', 'the', 'put', 'better', 'that', 'in', 'the', 'in', 'our', 'of', 'that', 'the', 'in', 'rural', 'keep', 'in', 'the', 'of', 'our', 'our', 'in', 'in', 'our', 'that', 'that', 'young', 'òsome', 'some', 'some', 'our', 'own', 'of', 'the', 'the', 'the', 'the', 'new', 'this', 'bless']\n",
      "['is', 'is', 'being', 'ñ', 'of', 'would', 'were', 'have', 'dropped', 'ñ', 'in', 'with', 'and', 'in', 'by', 'is', 'has', 'is', 'was', 'stepping', 'and', 'we', 'in', 'look', 'ó', 'war', 'are', 'first', 'was', 'who', 'by', 'a', 'is', 'and', 'safe', 'where', 'should', 'never', 'we', 'we', 'has', 'is', 'the', 'find', 'find', 'find', 'in', 'ñ', 'bears', 'where', 'to', 'we', 'is', 'is', 'is']\n"
     ]
    }
   ],
   "source": [
    "re_sentences_obama = (sentence.lower() for sentence in sentences_obama)\n",
    "re_sentences_trump = (sentence.lower() for sentence in sentences_trump)\n",
    "\n",
    "follow_before = re.compile(r'(\\w+)\\W*\\b(america|future|country|people|world)\\W*\\b')\n",
    "follow_after = re.compile(r'\\W*\\b(america|future|country|people|world)\\W*\\b(\\w+)')\n",
    "\n",
    "def regex_get_words_followed(sentences, pattern_before, pattern_after):\n",
    "    follow_before_words = []\n",
    "    follow_after_words = []\n",
    "    for sentence in sentences:\n",
    "        m = pattern_before.search(sentence)\n",
    "        n = pattern_after.search(sentence)\n",
    "\n",
    "        if m:\n",
    "            follow_before_words.append(m.group(1))\n",
    "        if n:\n",
    "            follow_after_words.append(n.group(2))\n",
    "    return (follow_before_words, follow_after_words)\n",
    "\n",
    "regex_obama_words = regex_get_words_followed(re_sentences_obama, follow_before, follow_after)\n",
    "regex_trump_words = regex_get_words_followed(re_sentences_trump, follow_before, follow_after)\n",
    "\n",
    "print(regex_obama_words[0])\n",
    "print(regex_obama_words[1])\n",
    "print(regex_trump_words[0])\n",
    "print(regex_trump_words[1])"
   ],
   "metadata": {
    "collapsed": false,
    "pycharm": {
     "name": "#%%\n"
    }
   }
  },
  {
   "cell_type": "markdown",
   "source": [
    "Save the result into the file."
   ],
   "metadata": {
    "collapsed": false,
    "pycharm": {
     "name": "#%% md\n"
    }
   }
  },
  {
   "cell_type": "code",
   "execution_count": 64,
   "outputs": [],
   "source": [
    "with open('Result.txt', 'a') as file:\n",
    "    file.write(\"\\n\\n\")\n",
    "    file.write(\"###########################################################\\n\")\n",
    "    file.write(\"###########################################################\\n\")\n",
    "    file.write(\"####################Word Association(I)####################\\n\")\n",
    "    file.write(\"###########################################################\\n\")\n",
    "    file.write(\"###########################################################\\n\")\n",
    "    file.write(\"\\n\\n\\na) Using Loop Structure\\n\\n\")\n",
    "    file.write(\"<Obama Speech>\\n\")\n",
    "    file.write(str(obama_before))\n",
    "    file.write(\"\\n%s\\n\" % obama_after)\n",
    "    file.write(\"<Trump Speech>\\n\")\n",
    "    file.write(str(trump_before))\n",
    "    file.write(\"\\n%s\\n\" % trump_after)\n",
    "    file.write(\"\\n\\n\\nb) Using Regular Expressions\\n\\n\")\n",
    "    file.write(\"<Obama Speech>\\n\")\n",
    "    file.write(str(regex_obama_words[0]))\n",
    "    file.write(\"\\n%s\\n\" % regex_obama_words[1])\n",
    "    file.write(\"<Trump Speech>\\n\")\n",
    "    file.write(str(regex_trump_words[0]))\n",
    "    file.write(\"\\n%s\\n\" % regex_trump_words[1])"
   ],
   "metadata": {
    "collapsed": false,
    "pycharm": {
     "name": "#%%\n"
    }
   }
  },
  {
   "cell_type": "markdown",
   "metadata": {},
   "source": [
    "### Q.4  Word Association (II) (20 marks)\n",
    "\n",
    "Use your favorate method to find out the set of all nouns that appear immediately before or after the following two list of words, case-insensitive. \n",
    "\n",
    "(1) A list of positive words\n",
    "\n",
    "https://gist.github.com/mkulakowski2/4289437\n",
    "\n",
    "(2) A list of negative words\n",
    "\n",
    "https://gist.github.com/mkulakowski2/4289441\n",
    "\n",
    "\n",
    "Print the two sets of nouns from the two speeches and store them in a section called \"Word Association (II)\" in the \"Result.txt\" file.  \n",
    "\n",
    "How would you compare the the two sets and what are your observations?\n",
    "\n",
    "Exlain and justify your answer. "
   ]
  },
  {
   "cell_type": "markdown",
   "source": [
    "As the question suggests, we need to import list of positive words and negative words."
   ],
   "metadata": {
    "collapsed": false,
    "pycharm": {
     "name": "#%% md\n"
    }
   }
  },
  {
   "cell_type": "code",
   "execution_count": 65,
   "metadata": {},
   "outputs": [],
   "source": [
    "positive_text = open(\"positive-words.txt\", \"r\")\n",
    "negative_text = open(\"negative-words.txt\", \"r\")\n",
    "\n",
    "positive_words = positive_text.read().splitlines()[35:]\n",
    "negative_words = negative_text.read().splitlines()[35:]"
   ]
  },
  {
   "cell_type": "markdown",
   "source": [
    "Then, write a function `word_association` that would return words that follows immediately after or followed by the list of words."
   ],
   "metadata": {
    "collapsed": false,
    "pycharm": {
     "name": "#%% md\n"
    }
   }
  },
  {
   "cell_type": "code",
   "execution_count": 66,
   "outputs": [],
   "source": [
    "def word_association(sentences, wordlist):\n",
    "    sentences = (sentence.lower() for sentence in sentences)\n",
    "    follow_before_words = []\n",
    "    follow_after_words = []\n",
    "\n",
    "    for sentence in sentences:\n",
    "        word_tokens = list(gensim.utils.tokenize(sentence.encode()))\n",
    "        for i in range(len(word_tokens)-1):\n",
    "            if word_tokens[i+1] in wordlist:\n",
    "                follow_before_words.append(word_tokens[i])\n",
    "        for i in range(1, len(word_tokens)):\n",
    "            if word_tokens[i-1] in wordlist:\n",
    "                follow_after_words.append(word_tokens[i])\n",
    "    return (follow_before_words, follow_after_words)"
   ],
   "metadata": {
    "collapsed": false,
    "pycharm": {
     "name": "#%%\n"
    }
   }
  },
  {
   "cell_type": "markdown",
   "metadata": {
    "pycharm": {
     "name": "#%% md\n"
    }
   },
   "source": [
    "Following is the first trial to analyze word association."
   ]
  },
  {
   "cell_type": "code",
   "execution_count": 67,
   "outputs": [
    {
     "name": "stdout",
     "output_type": "stream",
     "text": [
      "['i', 'the', 'can', 'priorities', 'justice', 'and', 'go', 'from', 'for', 'the', 'equal', 'the', 'i', 'we', 'that', 'promises', 'medical', 'it', 'we', 'a', 'who', 'past', 'the', 'change', 'americaõs', 'emerged', 'and', 'our', 'and', 'our', 'ensure', 'the', 'we', 'and', 'the', 'we', 'such', 'choices', 'with', 'the', 'a', 'technology', 'challenges', 'america', 'and', 'whatõs', 'america', 'the', 'most', 'the', 'its', 'in', 'the', 'where', 'face', 'less', 'less', 'very', 'careers', 'who', 'a', 'that', 'also', 'made', 'a', 'bipartisan', 'an', 'fields', 'that', 'job', 'and', 'more', 'college', 's', 'the', 'the', 'a', 'need', 'to', 'lot', 'already', 'more', 'basic', 'the', 'have', 'applause', 'can', 'to', 'thatõs', 'his', 'economy', 'work', 'everybody', 'to', 'iõd', 'all', 'support', 'be', 'in', 'an', 'a', 'more', 'should', 'doing', 'being', 'those', 'a', 'our', 'most', 'of', 'is', 'a', 'can', 'he', 'the', 'the', 'of', 'developing', 'be', 'in', 'now', 'pay', 'the', 'to', 'than', 'no', 'they', 'to', 'entrenched', 'to', 'america', 'and', 'political', 'getting', 'most', 'the', 'every', 'to', 's', 'make', 'an', 'in', 'that', 'the', 'has', 'and', 'about', 'americaõs', 'become', 'than', 'may', 'the', 'and', 'a', 'a', 'to', 'to', 'conflicts', 'and', 'lasting', 'and', 'were', 'and', 'then', 'more', 'the', 'we', 'restored', 'to', 'a', 'are', 'we', 'most', 'the', 'to', 'a', 'us', 'our', 'we', 'every', 'the', 'it', 'might', 'most', 'a', 'sustainable', 'we', 'have', 'rational', 'a', 'different', 'of', 'of', 'doesnõt', 'all', 'doesnõt', 'a', 'in', 'the', 'the', 'way', 'of', 'have', 'i', 'be', 'chamber', 'would', 'would', 't', 'a', 'a', 'not', 'our', 'hidden', 'finance', 'to', 't', 'it', 'it', 'for', 'lot', 'a', 'will', 'to', 'look', 'pray', 'vote', 'canõt', 'the', 'you', 'you', 'your', 'to', 'the', 'the', 'not', 'can', 'be', 'of', 'and', 'good', 'and', 'that', 'and', 'and', 'unconditional', 'of', 'the', 'this', 'someday', 'with', 'the', 'brave', 'quiet', 'us', 'to', 'the', 'whose', 'that', 'precious', 'is', 'we', 'and', 'unconditional', 'so', 'here', 'is', 'god', 'god']\n",
      "['the', 'approach', 'together', 'criminal', 'applause', 'people', 'on', 'students', 'on', 'that', 'thing', 't', 'ourêplanet', 'amazing', 'medical', 'êbutêalsoêeconomic', 'education', 'itêor', 'deal', 'to', 'if', 'past', 'for', 'outward', 'and', 'than', 'and', 'ethic', 'to', 'and', 'of', 'our', 'to', 'in', 'is', 'now', 'in', 'things', 'shot', 'for', 'climate', 'and', 'the', 'in', 'now', 'most', 'economy', 'two', 'year', 'ways', 'recession', 'can', 'competition', 'for', 'to', 'for', 'hard', 'shot', 'also', 'for', 'paying', 'of', 'start', 'engineering', 'by', 'on', 'more', 'teachers', 'for', 'ways', 'thing', 'education', 'and', 'the', 'so', 'than', 'should', 'care', 'coverage', 'there', 'together', 'economic', 'to', 'with', 'better', 'for', 'to', 'a', 'a', 'like', 'expanding', 'it', 'of', 'disagreement', 'private', 'because', 'for', 'by', 'for', 'practices', 'future', 'corporate', 'to', 'hopper', 'world', 'cancer', 'with', 'resources', 'ones', 'when', 'energy', 'lonely', 'energy', 'than', 'than', 'to', 'the', 'when', 'reflect', 'building', 'who', 'the', 'and', 'without', 'air', 'so', 'and', 'nation', 'fighting', 'international', 'they', 'to', 'decisions', 'briefing', 'transition', 'it', 'claims', 'a', 'forces', 'this', 'or', 'havens', 'talk', 'as', 'of', 'that', 'there', 'approach', 'and', 'our', 'with', 'syria', 'international', 'diplomacy', 'they', 'workers', 'more', 'jobs', 'this', 'thing', 'diplomatic', 'relations', 'the', 'application', 'nearly', 'agreement', 'thing', 'now', 'the', 'way', 'and', 'every', 'way', 'it', 'our', 'thing', 'peaceful', 'planet', 'together', 'constructive', 'debates', 'politics', 'and', 'between', 'if', 'by', 'if', 'to', 'of', 'or', 'or', 'now', 'bridged', 'iõll', 'so', 'people', 'to', 'to', 'being', 'politics', 'politics', 'just', 'selves', 'canõt', 'canõt', 'together', 'raising', 'to', 'for', 'that', 'to', 'future', 'greater', 'us', 'us', 'we', 'to', 'of', 'one', 'my', 'to', 'your', 'and', 'that', 'that', 'there', 'and', 'humor', 'and', 'that', 'america', 'as', 'love', 'but', 'this', 'country', 'a', 'doing', 'quiet', 'work', 'of', 'him', 'to', 'for', 'right', 'is', 'eyed', 'by', 'that', 'love', 'will', 'about', 'as', 'you', 'you', 'the']\n",
      "['president', 'trump', 'the', 'the', 'are', 'falling', 'is', 'blazing', 'taken', 'broken', 'and', 'americaõs', 'am', 'the', 'being', 'are', 'are', 'are', 'our', 'is', 'our', 'is', 'most', 'americaõs', 'unparalleled', 'americaõs', 'to', 'for', 'unbridled', 'very', 'this', 'economic', 'the', 'the', 'net', 'times', 'the', 'rising', 'and', 'rising', 'collar', 'they', 'consumer', 'reached', 'far', 'our', 'words', 'and', 'these', 'anything', 'are', 'americans', 'a', 'drug', 'the', 'great', 'a', 'a', 'justice', 'justice', 'tremendous', 'jobs', 'now', 'biggest', 'my', 'massively', 'of', 'that', 'treated', 'the', 'also', 'has', 'the', 'workers', 'grown', 'taken', 'the', 'they', 'òthatõs', 'for', 'are', 'is', 'nation', 'very', 'and', 'great', 'their', 'for', 'remember', 'american', 'the', 'made', 'their', 'very', 'his', 'greatest', 'iainõs', 'charles', 'their', 'a', 'so', 'a', 'stephanie', 'your', 'some', 'am', 'become', 'education', 'a', 'and', 'our', 'be', 'a', 'safe', 'healthy', 'drug', 'your', 'extraordinary', 'and', 'an', 'to', 'also', 'a', 'most', 'affordable', 'provide', 'and', 'always', 'always', 'always', 'american', 'care', 'substantially', 'we', 'to', 'have', 'very', 'have', 'providing', 'to', 'subsidize', 'medicare', 'a', 'provide', 'unlimited', 'sounds', 'prohibit', 'very', 'of', 'a', 'was', 'and', 'unyielding', 'launched', 'substantially', 'so', 'a', 'man', 'stage', 'not', 'is', 'the', 'and', 'limbaugh', 'you', 'the', 'incredible', 'am', 'civilian', 'of', 'the', 'of', 'kathryn', 'medical', 'the', 'on', 'a', 'strong', 'her', 'are', 'a', 'to', 'medical', 'an', 'the', 'to', 'just', 'we', 'recently', 'federal', 'advancing', 'to', 'an', 'a', 'america', 'means', 'nationõs', 'our', 'be', 'alien', 'set', 'had', 'daily', 'a', 'who', 'jody', 'americans', 'a', 'to', 'be', 'a', 'historic', 'on', 'economy', 'and', 'american', 'ñ', 'to', 'two', 'new', 'religious', 'constitutional', 'of', 'we', 'celebrate', 'we', 'the', 'constitutional', 'always', 'amendment', 'a', 'manifest', 'a', 'for', 'and', 'to', 'a', 'their', 'in', 'lifeõs', 'young', 'the', 'the', 'so', 'of', 'i', 'eternal', 'very', 'worldõs', 'a', 'is', 'seen', 'the', 'our', 'very', 'time', 'too', 'and', 'tremendous', 'and', 'the', 'to', 'nationõs', 'spouses', 'amy', 'hours', 'in', 'to', 'am', 'president', 'where', 'many', 'names', 'the', 'beautiful', 'the', 'toughest', 'most', 'our', 'and', 'the', 'most', 'our', 'see', 'our', 'most', 'godõs', 'the', 'god', 'god']\n",
      "['thank', 'you', 'you', 'you', 'american', 'results', 'incomes', 'is', 'and', 'of', 'jobless', 'to', 'it', 'anywhere', 'is', 'country', 'than', 'and', 'success', 'and', 'rise', 'the', 'and', 'you', 'and', 'the', 'economic', 'force', 'force', 'of', 'than', 'percent', 'ñ', 'they', 'for', 'has', 'new', 'than', 'republican', 'people', 'communities', 'this', 'americans', 'army', 'tradesman', 'reunited', 'work', 'you', 'job', 'start', 'into', 'couldnõt', 'we', 'so', 'new', 'i', 'exports', 'and', 'and', 'on', 'backing', 'our', 'new', 'our', 'here', 'of', 'relationship', 'what', 'ó', 'in', 'the', 'a', 'coalition', 'man', 'of', 'you', 'honor', 'you', 'struggle', 'you', 'you', 'unifies', 'we', 'planes', 'here', 'share', 'hero', 'of', 'grandfather', 'story', 'his', 'you', 'is', 'education', 'that', 'future', 'you', 'daughter', 'you', 'news', 'to', 'itõs', 'scholarships', 'and', 'environment', 'first', 'initiative', 'healthy', 'supportive', 'and', 'life', 'you', 'love', 'and', 'care', 'you', 'vision', 'our', 'that', 'life', 'innovative', 'and', 'alternatives', 'patients', 'your', 'your', 'should', 'care', 'to', 'americansõ', 'legislation', 'americans', 'legislation', 'taxpayer', 'free', 'care', 'of', 'lure', 'free', 'health', 'to', 'government', 'wall', 'generic', 'clip', 'to', 'we', 'new', 'care', 'as', 'one', 'by', 'cancer', 'news', 'news', 'fighter', 'that', 'you', 'and', 'work', 'that', 'to', 'the', 'is', 'you', 'of', 'the', 'healthy', 'two', 'mother', 'to', 'of', 'medical', 'percent', 'thing', 'you', 'chance', 'and', 'ellie', 'americaõs', 'to', 'force', 'for', 'the', 'effort', 'tomorrow', 'the', 'ice', 'ice', 'removed', 'by', 'iceõs', 'store', 'him', 'you', 'jody', 'one', 'the', 'removed', 'nation', 'you', 'you', 'we', 'welcoming', 'themselves', 'our', 'you', 'our', 'new', 'court', 'you', 'and', 'to', 'faith', 'we', 'religion', 'of', 'that', 'your', 'to', 'nation', 'in', 'plan', 'between', 'in', 'the', 'future', 'daughter', 'is', 'kayla', 'men', 'special', 'carried', 'you', 'that', 'you', 'in', 'you', 'you', 'you', 'terrorist', 'precision', 'you', 'iranians', 'of', 'sanctions', 'and', 'or', 'of', 'and', 'talks', 'in', 'or', 'military', 'amy', 'full', 'other', 'and', 'you', 'you', 'to', 'home', 'you', 'is', 'generals', 'wyatt', 'beautiful', 'alamo', 'strongest', 'fiercest', 'republic', 'and', 'inheritance', 'world', 'dreams', 'frontiers', 'discoveries', 'stories', 'is', 'is', 'you', 'you', 'america', 'you']\n"
     ]
    }
   ],
   "source": [
    "obama_association_pos = word_association(sentences_obama, positive_words)[0]\n",
    "obama_association_neg = word_association(sentences_obama, positive_words)[1]\n",
    "trump_association_pos = word_association(sentences_trump, positive_words)[0]\n",
    "trump_association_neg = word_association(sentences_trump, positive_words)[1]\n",
    "\n",
    "print(obama_association_pos)\n",
    "print(obama_association_neg)\n",
    "print(trump_association_pos)\n",
    "print(trump_association_neg)"
   ],
   "metadata": {
    "collapsed": false,
    "pycharm": {
     "name": "#%%\n"
    }
   }
  },
  {
   "cell_type": "markdown",
   "source": [
    "However, if you print most common 10 words that are captured by this association, you can see that results show less meaningful words due to stopwords."
   ],
   "metadata": {
    "collapsed": false,
    "pycharm": {
     "name": "#%% md\n"
    }
   }
  },
  {
   "cell_type": "code",
   "execution_count": 68,
   "outputs": [
    {
     "name": "stdout",
     "output_type": "stream",
     "text": [
      "#### Obama Speech ####\n",
      "Positive words association:  [('the', 30), ('a', 18), ('and', 17), ('to', 15), ('we', 9), ('of', 7), ('that', 6), ('our', 5), ('most', 5), ('in', 5)]\n",
      "Negative words association:  [('to', 17), ('and', 13), ('for', 11), ('the', 8), ('that', 7), ('of', 7), ('thing', 5), ('together', 4), ('than', 4), ('now', 4)]\n",
      "\n",
      "\n",
      "#### Trump Speech ####\n",
      "Positive words association:  [('the', 25), ('a', 21), ('and', 14), ('to', 12), ('our', 9), ('are', 7), ('very', 7), ('is', 6), ('of', 6), ('most', 5)]\n",
      "Negative words association:  [('you', 34), ('and', 18), ('of', 11), ('to', 11), ('the', 9), ('is', 8), ('that', 6), ('new', 5), ('we', 5), ('our', 5)]\n"
     ]
    }
   ],
   "source": [
    "print(\"#### Obama Speech ####\")\n",
    "print(\"Positive words association: \",collections.Counter(obama_association_pos).most_common(10))\n",
    "print(\"Negative words association: \",collections.Counter(obama_association_neg).most_common(10))\n",
    "print(\"\\n\")\n",
    "print(\"#### Trump Speech ####\")\n",
    "print(\"Positive words association: \",collections.Counter(trump_association_pos).most_common(10))\n",
    "print(\"Negative words association: \",collections.Counter(trump_association_neg).most_common(10))"
   ],
   "metadata": {
    "collapsed": false,
    "pycharm": {
     "name": "#%%\n"
    }
   }
  },
  {
   "cell_type": "markdown",
   "source": [
    "To analyze with more meaningful result, we can perform the same steps without stopwords. Use `remove_stopwords` function from `gensim` module to generate new sentences, then analyze common words that are associated with either positive words or negative ones."
   ],
   "metadata": {
    "collapsed": false,
    "pycharm": {
     "name": "#%% md\n"
    }
   }
  },
  {
   "cell_type": "code",
   "execution_count": 69,
   "outputs": [
    {
     "name": "stdout",
     "output_type": "stream",
     "text": [
      "['i', 'appreciate', 'hope', 'priorities', 'justice', 'applause', 'want', 'plenty', 'pushing', 'progress', 'equal', 'theyõre', 'i', 'way', 'change', 'promises', 'medical', 'it', 'and', 'fighting', 'change', 'past', 'òdogmas', 'change', 'americaõs', 'emerged', 'stronger', 'nation', 'optimism', 'diversity', 'ensure', 'spirit', 'itõs', 'care', 'secured', 'person', 'but', 'choices', 'future', 'for', 'first', 'technology', 'challenges', 'america', 'safe', 'whatõs', 'america', 'now', 'strongest', 'jobs', 'industry', 'changing', 'long', 'job', 'face', 'workers', 'companies', 'concentrated', 'careers', 'everybody', 'hard', 'economy', 'works', 'weõve', 'land', 'bipartisan', 'behind', 'fields', 'build', 'job', 'recruit', 'support', 'college', 's', 'student', 's', 'but', 'need', 'going', 'lot', 'theyõve', 'medicare', 'basic', 'way', 'people', 'applause', 'parties', 'work', 'thatõs', 'retirement', 'economy', 'work', 'everybody', 'willing', 'iõd', 'strategies', 'support', 'areas', 'rigged', 's', 'believe', 'feel', 'rules', 'figured', 'ends', 'spread', 's', 'turns', 'citizens', 'spirit', 'america', 'shape', 'america', 'month', 'health', 'for', 'level', 'developing', 'êyou', 'investment', 'power', 'pay', 'homeowners', 'teamed', 'rather', 'we', 'resources', 'americans', 'entrenched', 'want', 'america', 'safe', 'political', 'getting', 'america', 'troops', 'comes', 'moscow', 's', 't', 'day', 'economy', 'the', 'america', 'arming', 'congress', 'americaõs', 'places', 'needs', 'that', 's', 'blood', 'fortunately', 'approach', 'necessary', 'world', 'conflicts', 'forces', 'lasting', 'sanctions', 'workers', 'markets', 'america', 'support', 's', 'thatõs', 'restored', 'positioned', 'means', 'causes', 'when', 'nations', 's', 'chance', 'thereõs', 'makes', 'diversity', 'way', 'respect', 'murderers', 'telling', 's', 'maybe', 'living', 'sustainable', 'happen', 'happen', 'rational', 'a', 'different', 'meaning', 'bonds', 'doesnõt', 'disagree', 'doesnõt', 'halt', 'rigged', 'favor', 'rich', 'way', 'instead', 'roosevelt', 'i', 'trying', 'chamber', 'people', 'cooperation', 't', 'want', 'want', 'reflect', 'hidden', 'finance', 'need', 't', 'got', 'want', 'push', 'lot', 'forsake', 'power', 'died', 'look', 'pray', 'vote', 'canõt', 'makes', 'believe', 'party', 'depends', 'willingness', 'reflects', 'goodness', 'it', 'i', 'i', 'voices', 'grit', 'good', 'humor', 'kindness', 'not', 'truth', 'unconditional', 'lot', 'busy', 'travel', 'someday', 'everybody', 'respect', 'brave', 'quiet', 'keeping', 'lines', 'finds', 'father', 'know', 'precious', 'right', 'country', 'truth', 'unconditional', 'makes', 'stand', 'union', 'god', 'god']\n",
      "['constructive', 'approach', 'year', 'criminal', 'applause', 'people', 'traditional', 'students', 'work', 'i', 'thing', 't', 'ourêplanet', 'amazing', 'medical', 'êbutêalsoêeconomic', 'education', 'itêor', 'deal', 'restore', 'got', 'past', 'us', 'outward', 'better', 'before', 'work', 'ethic', 'rule', 'security', 'past', 'health', 'troops', 'state', 'inevitable', 'now', 'are', 'things', 'shot', 'us', 'climate', 'lead', 'world', 'us', 'now', 'durable', 'economy', 'years', 'year', 'ways', 'recession', 'automated', 'competition', 'raise', 'communities', 'workers', 'hard', 'shot', 'better', 'everybody', 'paying', 'no', 'start', 'engineering', 'providing', 'day', 'great', 'teachers', 'american', 'ways', 'thing', 'education', 'protections', 'job', 'hard', 'ever', 'mobile', 'care', 'coverage', 'there', 'improve', 'economic', 'hire', 'him', 'better', 'everybody', 'work', 'chance', 'discussion', 'like', 'expanding', 'difficult', 'wealthiest', 'disagreement', 'private', 'allowed', 'them', 'workers', 'shareholders', 'practices', 'future', 'corporate', 'meet', 'hopper', 'world', 'cancer', 'congress', 'resources', 'ones', 'comes', 'energy', 'lonely', 'energy', 'dirtier', 'average', 'generate', 'past', 'don', 'reflect', 'building', 'want', 'status', 'strong', 'isolating', 'air', 'rhetoric', 'america', 'nation', 'fighting', 'international', 'us', 'level', 'decisions', 'briefing', 'transition', 'claims', 'coalition', 'forces', 'war', 'justice', 'havens', 'talk', 'tv', 'intentions', 'ultimately', 'smarter', 'approach', 'disciplined', 'people', 'us', 'syria', 'international', 'diplomacy', 'set', 'workers', 'good', 'jobs', 'agreement', 'thing', 'diplomatic', 'relations', 'lives', 'application', 'nearly', 'agreement', 'thing', 'now', 'thing', 'way', 'way', 'faith', 'way', 'is', 'union', 'thing', 'peaceful', 'planet', 'together', 'constructive', 'debates', 'politics', 'imperatives', 'citizens', 'think', 'malice', 'think', 'compromise', 'rich', 'powerful', 'special', 'now', 'bridged', 'iõll', 'long', 'people', 'cooperation', 'elevated', 'trapped', 'politics', 'politics', 'selves', 'canõt', 'canõt', 'real', 'raising', 'vote', 'people', 'that', 'cynical', 'future', 'greater', 'us', 'us', 'do', 'path', 'world', 'party', 'agenda', 'uphold', 'duties', 'decency', 'i', 'little', 'citizen', 'vision', 'humor', 'kindness', 'helped', 'america', 'black', 'love', 'theyõre', 'country', 'country', 'disease', 'brave', 'quiet', 'work', 'keeping', 'on', 'come', 'son', 'right', 'worth', 'eyed', 'challenge', 'unarmed', 'love', 'final', 'future', 'i', 'you', 'you', 'united']\n",
      "['president', 'trump', 'launched', 'share', 'jobs', 'falling', 'country', 'blazing', 'taken', 'broken', 'power', 'americaõs', 'i', 'economy', 'power', 'borders', 'families', 'values', 'our', 'pride', 'people', 'union', 'worldõs', 'americaõs', 'unparalleled', 'americaõs', 'rapidly', 'fighting', 'unbridled', 'and', 'witnessing', 'economic', 'dropped', 'joined', 'net', 'times', 'rising', 'and', 'rising', 'collar', 'they', 'consumer', 'reached', 'far', 'scott', 'words', 'energy', 'time', 'seen', 'zones', 'americans', 'drug', 'tony', 'great', 'ability', 'job', 'justice', 'justice', 'tremendous', 'jobs', 'america', 'biggest', 'i', 'massively', 'degree', 'that', 'treated', 'earn', 'i', 'strategy', 'signed', 'workers', 'grown', 'taken', 'time', 'they', 'òthatõs', 'standing', 'we', 'states', 'nation', 'evening', 'dreams', 'great', 'people', 'struggle', 'remember', 'american', 'purchased', 'itõs', 'pay', 'very', 'tonight', 'greatest', 'iainõs', 'charles', 'country', 'gets', 'programs', 'daughter', 'stephanie', 'thank', 'i', 'i', 'scholarship', 'education', 'person', 'safe', 'reason', 'be', 'advance', 'safe', 'healthy', 'drug', 'melania', 'extraordinary', 'love', 'contains', 'congress', 'i', 'a', 'requires', 'affordable', 'provide', 'ñ', 'we', 'and', 'medicare', 'american', 'care', 'substantially', 'but', 'work', 'room', 'million', 'chamber', 'providing', 'taxpayers', 'subsidize', 'medicare', 'acting', 'provide', 'unlimited', 'sounds', 'prohibit', 'tall', 'number', 'i', 'quickly', 'unyielding', 'launched', 'substantially', 'congress', 'pain', 'man', 'stage', 'this', 'news', 'news', 'fighter', 'limbaugh', 'speak', 'inspire', 'incredible', 'i', 'civilian', 'medal', 'present', 'medal', 'kathryn', 'medical', 'through', 'kept', 'ellie', 'strong', 'sitting', 'robin', 'child', 'thanks', 'medical', 'itõs', 'baby', 'chance', 'grow', 'as', 'recently', 'federal', 'advancing', 'to', 'initiative', 'a', 'america', 'means', 'nationõs', 'year', 'ice', 'alien', 'set', 'city', 'daily', 'walked', 'brothers', 'jody', 'americans', 'states', 'effort', 'illegally', 'a', 'historic', 'based', 'economy', 'financially', 'american', 'ñ', 'judges', 'includes', 'new', 'religious', 'constitutional', 'symbols', 'america', 'celebrate', 'faith', 'sights', 'constitutional', 'i', 'amendment', 'heritage', 'manifest', 'announced', 'plan', 'determined', 'order', 'realize', 'college', 'god', 'lifeõs', 'young', 'told', 'men', 'team', 'depth', 'i', 'eternal', 'very', 'executed', 'terrorists', 'seen', 'working', 'because', 'help', 'time', 'quickly', 'determination', 'tremendous', 'progress', 'ñ', 'fight', 'nationõs', 'spouses', 'amy', 'hours', 'safety', 'want', 'i', 'president', 'place', 'roosevelt', 'names', 'ñ', 'beautiful', 'frontier', 'toughest', 'built', 'this', 'glorious', 'built', 'continent', 'country', 'tomorrow', 'our', 'our', 'godõs', 'americans', 'god', 'god']\n",
      "['thank', 'much', 'you', 'much', 'american', 'results', 'incomes', 'surging', 'highly', 'of', 'jobless', 'report', 'been', 'world', 'restored', 'country', 'before', 'inclusive', 'success', 'community', 'rise', 'u', 'reciprocal', 'you', 'lifting', 'average', 'economic', 'force', 'force', 'half', 'increase', 'ñ', 'rising', 'low', 'reached', 'new', 'increases', 'republican', 'people', 'communities', 'this', 'americans', 'army', 'reunited', 'work', 'you', 'job', 'start', 'law', 'couldnõt', 'past', 'elements', 'new', 'i', 'exports', 'reciprocity', 'reciprocity', 'trade', 'backing', 'citizens', 'new', 'intellectual', 'u', 'united', 'relationship', 'weõve', 'ó', 'hemisphere', 'hopes', 'nation', 'coalition', 'man', 'venezuelans', 'you', 'honor', 'much', 'struggle', 'much', 'much', 'unifies', 'invested', 'planes', 'usa', 'share', 'hero', 'all', 'grandfather', 'story', 'th', 'you', 'powers', 'education', 'tens', 'future', 'beautiful', 'daughter', 'much', 'news', 'inform', 'itõs', 'scholarships', 'secure', 'environment', 'lady', 'initiative', 'healthy', 'supportive', 'drug', 'life', 'you', 'love', 'profound', 'care', 'much', 'vision', 'students', 'achieved', 'life', 'innovative', 'high', 'alternatives', 'patients', 'medicare', 'social', 'blindsided', 'care', 'improve', 'americansõ', 'legislation', 'americans', 'legislation', 'taxpayer', 'free', 'care', 'seniors', 'lure', 'free', 'health', 'you', 'government', 'wall', 'generic', 'clip', 'announce', 'curbing', 'new', 'care', 'fund', 'diagnosed', 'millions', 'cancer', 'news', 'news', 'fighter', 'meet', 'decades', 'incredible', 'work', 'charity', 'announce', 'presidential', 'presented', 'you', 'doctors', 'battle', 'healthy', 'two', 'mother', 'tonight', 'life', 'medical', 'percent', 'thing', 'much', 'chance', 'grow', 'ellie', 'americaõs', 'sign', 'force', 'working', 'environment', 'effort', 'tomorrow', 'men', 'ice', 'ice', 'removed', 'sanctuary', 'iceõs', 'store', 'world', 'you', 'jody', 'hurt', 'southern', 'removed', 'nation', 'much', 'you', 'working', 'welcoming', 'financially', 'values', 'you', 'constitution', 'new', 'court', 'you', 'includes', 'pray', 'faith', 'cherish', 'religion', 'god', 'siege', 'second', 'bear', 'nation', 'stars', 'plan', 'israel', 'order', 'region', 'future', 'daughter', 'is', 'kayla', 'men', 'special', 'carried', 'you', 'dwells', 'son', 'arlington', 'you', 'much', 'much', 'precision', 'you', 'iranians', 'people', 'sanctions', 'short', 'foolish', 'warfighters', 'peace', 'talks', 'world', 'fight', 'military', 'amy', 'full', 'military', 'want', 'you', 'you', 'inform', 'home', 'much', 'born', 'generals', 'wyatt', 'beautiful', 'alamo', 'strongest', 'fiercest', 'republic', 'magnificent', 'inheritance', 'world', 'dreams', 'frontiers', 'discoveries', 'stories', 'shining', 'come', 'you', 'you', 'america', 'much']\n"
     ]
    }
   ],
   "source": [
    "from gensim.parsing.preprocessing import remove_stopwords\n",
    "new_sentences_obama = [remove_stopwords(sentence) for sentence in sentences_obama]\n",
    "new_sentences_trump = [remove_stopwords(sentence) for sentence in sentences_trump]\n",
    "\n",
    "obama_association_pos_n = word_association(new_sentences_obama, positive_words)[0]\n",
    "obama_association_neg_n = word_association(new_sentences_obama, positive_words)[1]\n",
    "trump_association_pos_n = word_association(new_sentences_trump, positive_words)[0]\n",
    "trump_association_neg_n = word_association(new_sentences_trump, positive_words)[1]\n",
    "\n",
    "print(obama_association_pos_n)\n",
    "print(obama_association_neg_n)\n",
    "print(trump_association_pos_n)\n",
    "print(trump_association_neg_n)"
   ],
   "metadata": {
    "collapsed": false,
    "pycharm": {
     "name": "#%%\n"
    }
   }
  },
  {
   "cell_type": "markdown",
   "source": [
    "After removing stopwords, we are able to see a little bit more meaningful result. For example, both Obama and Trump speech used \"America\", \"Country\" more often with postivie words. Also, Obama used positive words with various vocabulary such as \"Change\", \"Economy\" or \"Support\", while Trump used positive words with mainly \"America\", \"American\", \"America's\", \"Americans\" and so on."
   ],
   "metadata": {
    "collapsed": false,
    "pycharm": {
     "name": "#%% md\n"
    }
   }
  },
  {
   "cell_type": "code",
   "execution_count": 70,
   "outputs": [
    {
     "name": "stdout",
     "output_type": "stream",
     "text": [
      "#### Obama Speech ####\n",
      "Positive words association:  [('s', 9), ('america', 8), ('i', 5), ('want', 5), ('way', 4), ('change', 3), ('everybody', 3), ('economy', 3), ('support', 3), ('lot', 3), ('t', 3), ('makes', 3), ('applause', 2), ('it', 2), ('americaõs', 2), ('diversity', 2), ('spirit', 2), ('but', 2), ('for', 2), ('safe', 2)]\n",
      "Negative words association:  [('us', 7), ('thing', 6), ('people', 4), ('work', 4), ('now', 4), ('i', 3), ('past', 3), ('better', 3), ('world', 3), ('workers', 3), ('future', 3), ('way', 3), ('politics', 3), ('constructive', 2), ('approach', 2), ('year', 2), ('education', 2), ('shot', 2), ('ways', 2), ('hard', 2)]\n",
      "\n",
      "\n",
      "#### Trump Speech ####\n",
      "Positive words association:  [('i', 11), ('ñ', 4), ('country', 3), ('americaõs', 3), ('our', 3), ('and', 3), ('time', 3), ('americans', 3), ('america', 3), ('american', 3), ('a', 3), ('god', 3), ('president', 2), ('launched', 2), ('jobs', 2), ('taken', 2), ('power', 2), ('economy', 2), ('people', 2), ('rising', 2)]\n",
      "Negative words association:  [('you', 19), ('much', 13), ('new', 5), ('world', 4), ('care', 4), ('force', 3), ('nation', 3), ('news', 3), ('life', 3), ('u', 2), ('people', 2), ('americans', 2), ('work', 2), ('reciprocity', 2), ('future', 2), ('beautiful', 2), ('daughter', 2), ('inform', 2), ('environment', 2), ('healthy', 2)]\n"
     ]
    }
   ],
   "source": [
    "print(\"#### Obama Speech ####\")\n",
    "print(\"Positive words association: \",collections.Counter(obama_association_pos_n).most_common(20))\n",
    "print(\"Negative words association: \",collections.Counter(obama_association_neg_n).most_common(20))\n",
    "print(\"\\n\")\n",
    "print(\"#### Trump Speech ####\")\n",
    "print(\"Positive words association: \",collections.Counter(trump_association_pos_n).most_common(20))\n",
    "print(\"Negative words association: \",collections.Counter(trump_association_neg_n).most_common(20))"
   ],
   "metadata": {
    "collapsed": false,
    "pycharm": {
     "name": "#%%\n"
    }
   }
  },
  {
   "cell_type": "markdown",
   "source": [
    "Save Results into Result file."
   ],
   "metadata": {
    "collapsed": false,
    "pycharm": {
     "name": "#%% md\n"
    }
   }
  },
  {
   "cell_type": "code",
   "execution_count": 73,
   "outputs": [],
   "source": [
    "with open('Result.txt', 'a') as file:\n",
    "    file.write(\"\\n\\n\")\n",
    "    file.write(\"###########################################################\\n\")\n",
    "    file.write(\"###########################################################\\n\")\n",
    "    file.write(\"####################Word Association(II)####################\\n\")\n",
    "    file.write(\"###########################################################\\n\")\n",
    "    file.write(\"###########################################################\\n\")\n",
    "    file.write(\"\\nObservations are written in the Jupyter Notebook.\\n\")\n",
    "    file.write(\"\\n<Obama Speech>\\n\")\n",
    "    file.write(\"Top 20 Positive words association: \")\n",
    "    file.write(\"\\n%s\\n\" % str(collections.Counter(obama_association_pos_n).most_common(20)))\n",
    "    file.write(\"\\nTop 20 Negative words association: \")\n",
    "    file.write(\"\\n%s\\n\" % str(collections.Counter(obama_association_neg_n).most_common(20)))\n",
    "    file.write(\"\\n<Trump Speech>\\n\")\n",
    "    file.write(\"Top 20 Positive words association: \")\n",
    "    file.write(\"\\n%s\\n\" % str(collections.Counter(trump_association_pos_n).most_common(20)))\n",
    "    file.write(\"\\nTop 20 Negative words association: \")\n",
    "    file.write(\"\\n%s\\n\" % str(collections.Counter(trump_association_neg_n).most_common(20)))\n",
    "    file.write(\"\\n\\n\\n\")"
   ],
   "metadata": {
    "collapsed": false,
    "pycharm": {
     "name": "#%%\n"
    }
   }
  },
  {
   "cell_type": "markdown",
   "metadata": {},
   "source": [
    "### Q.5  Summarization by Frequent Words  (20 marks)\n",
    "\n",
    "We will perform a naive summarization of the speech by frequent noun words associated with both postive and negative words.  Note that in our definition, the \"positive frequency\" (\"negative frequency\" respectively) of a noun is the number of times it appears immediately before or after a word from the \"positive\" (\"negative\") word list. \n",
    "\n",
    "Calculate the top-100 postive-frequent and negative-frequent nouns and use them to summarize the speech. If fewer than 100 such words are identified, just use those found. \n",
    "\n",
    "\n",
    "How would you compare the the two sets and what are your observations?\n",
    "\n",
    "Exlain and justify your solution when necessary.  Store your result in a section called \"Speech Summarization\"\n",
    "\n"
   ]
  },
  {
   "cell_type": "code",
   "execution_count": 74,
   "metadata": {},
   "outputs": [],
   "source": [
    "obama_pos_sum = [w[0] for w in list(collections.Counter(obama_association_pos_n).most_common(100))]\n",
    "obama_neg_sum = [w[0] for w in list(collections.Counter(obama_association_neg_n).most_common(100))]\n",
    "\n",
    "summary_obama_positive = ' '.join(obama_pos_sum)\n",
    "summary_obama_negative = ' '.join(obama_neg_sum)\n",
    "\n",
    "trump_pos_sum = [w[0] for w in list(collections.Counter(trump_association_pos_n).most_common(100))]\n",
    "trump_neg_sum = [w[0] for w in list(collections.Counter(trump_association_neg_n).most_common(100))]\n",
    "\n",
    "summary_trump_positive = ' '.join(trump_pos_sum)\n",
    "summary_trump_negative = ' '.join(trump_neg_sum)"
   ]
  },
  {
   "cell_type": "markdown",
   "metadata": {
    "pycharm": {
     "name": "#%% md\n"
    }
   },
   "source": [
    "Save results into \"Result.txt\""
   ]
  },
  {
   "cell_type": "code",
   "execution_count": 75,
   "outputs": [
    {
     "name": "stdout",
     "output_type": "stream",
     "text": [
      "s america i want way change everybody economy support lot t makes applause it americaõs diversity spirit but for safe job workers need people work thatõs rigged believe power respect happen doesnõt truth unconditional god appreciate hope priorities justice plenty pushing progress equal theyõre promises medical and fighting past òdogmas emerged stronger nation optimism ensure itõs care secured person choices future first technology challenges whatõs now strongest jobs industry changing long face companies concentrated careers hard works weõve land bipartisan behind fields build recruit college student going theyõve medicare basic parties retirement willing iõd strategies areas feel rules figured ends\n",
      "us thing people work now i past better world workers future way politics constructive approach year education shot ways hard everybody energy america international agreement think canõt love country you criminal applause traditional students t ourêplanet amazing medical êbutêalsoêeconomic itêor deal restore got outward before ethic rule security health troops state inevitable are things climate lead durable economy years recession automated competition raise communities paying no start engineering providing day great teachers american protections job ever mobile care coverage there improve economic hire him chance discussion like expanding difficult wealthiest disagreement private allowed them shareholders practices corporate meet hopper cancer\n",
      "i ñ country americaõs our and time americans america american a god president launched jobs taken power economy people rising they seen drug great justice tremendous we states itõs very safe congress provide medicare substantially quickly this news medal medical nationõs constitutional built trump share falling blazing broken borders families values pride union worldõs unparalleled rapidly fighting unbridled witnessing economic dropped joined net times collar consumer reached far scott words energy zones tony ability job biggest massively degree that treated earn strategy signed workers grown òthatõs standing nation evening dreams struggle remember purchased pay tonight greatest iainõs charles gets programs\n",
      "you much new world care force nation news life u people americans work reciprocity future beautiful daughter inform environment healthy legislation free announce working men ice removed military thank american results incomes surging highly of jobless report been restored country before inclusive success community rise reciprocal lifting average economic half increase ñ rising low reached increases republican communities this army reunited job start law couldnõt past elements i exports trade backing citizens intellectual united relationship weõve ó hemisphere hopes coalition man venezuelans honor struggle unifies invested planes usa share hero all grandfather story th powers education tens itõs scholarships secure\n"
     ]
    }
   ],
   "source": [
    "print(summary_obama_positive)\n",
    "print(summary_obama_negative)\n",
    "print(summary_trump_positive)\n",
    "print(summary_trump_negative)"
   ],
   "metadata": {
    "collapsed": false,
    "pycharm": {
     "name": "#%%\n"
    }
   }
  },
  {
   "cell_type": "markdown",
   "source": [
    "Save Results into Result file."
   ],
   "metadata": {
    "collapsed": false
   }
  },
  {
   "cell_type": "code",
   "execution_count": 77,
   "outputs": [],
   "source": [
    "with open('Result.txt', 'a') as file:\n",
    "    file.write(\"\\n\\n\")\n",
    "    file.write(\"###########################################################\\n\")\n",
    "    file.write(\"###########################################################\\n\")\n",
    "    file.write(\"################### Speech Summarization ##################\\n\")\n",
    "    file.write(\"###########################################################\\n\")\n",
    "    file.write(\"###########################################################\\n\")\n",
    "    file.write(\"\\n\\n<Obama Speech>\\n\")\n",
    "    file.write(\"Positive Word Summary: %s\\n\" % summary_obama_positive)\n",
    "    file.write(\"\\nNegative Word Summary: %s \\n\\n\" % summary_obama_negative)\n",
    "    file.write(\"\\n\\n<Trump Speech>\\n\")\n",
    "    file.write(\"Positive Word Summary: %s\\n\" % summary_trump_positive)\n",
    "    file.write(\"\\nNegative Word Summary: %s \\n\\n\" % summary_trump_negative)"
   ],
   "metadata": {
    "collapsed": false,
    "pycharm": {
     "name": "#%%\n"
    }
   }
  }
 ],
 "metadata": {
  "kernelspec": {
   "display_name": "Python 3",
   "language": "python",
   "name": "python3"
  },
  "language_info": {
   "codemirror_mode": {
    "name": "ipython",
    "version": 3
   },
   "file_extension": ".py",
   "mimetype": "text/x-python",
   "name": "python",
   "nbconvert_exporter": "python",
   "pygments_lexer": "ipython3",
   "version": "3.7.6"
  }
 },
 "nbformat": 4,
 "nbformat_minor": 2
}